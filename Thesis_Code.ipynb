{
  "nbformat": 4,
  "nbformat_minor": 0,
  "metadata": {
    "colab": {
      "name": "Thesis Code.ipynb",
      "provenance": [],
      "collapsed_sections": [
        "ln2qAaBzXMPS",
        "bdcuvf5dXC5F",
        "t-pgGHOQIG8f",
        "b_YIjS5bdcaE",
        "mOg-iV4Hd1Ft",
        "sEBuNAkJnN7f",
        "JofVFEhAojev",
        "D0WTx5y0Yu6u",
        "1pos2275citx",
        "OI_mhrKI_zeh",
        "IQx5_t09Eoj3",
        "UqXprP5Y3rBd",
        "7N_G7nHlQyv0",
        "PIKyiKcbpzY5",
        "pcY46lxjgfcq",
        "si98taMo88r-"
      ],
      "authorship_tag": "ABX9TyPSFa3gDkKuqhJ8clFUVBfS",
      "include_colab_link": true
    },
    "kernelspec": {
      "name": "python3",
      "display_name": "Python 3"
    },
    "language_info": {
      "name": "python"
    }
  },
  "cells": [
    {
      "cell_type": "markdown",
      "metadata": {
        "id": "view-in-github",
        "colab_type": "text"
      },
      "source": [
        "<a href=\"https://colab.research.google.com/github/TR-Tanmoy/Predicting-education-level-of-farmer-s-offspring-using-machine-learning-technique/blob/main/Thesis_Code.ipynb\" target=\"_parent\"><img src=\"https://colab.research.google.com/assets/colab-badge.svg\" alt=\"Open In Colab\"/></a>"
      ]
    },
    {
      "cell_type": "code",
      "metadata": {
        "colab": {
          "base_uri": "https://localhost:8080/"
        },
        "id": "MEZEyG-Yzi_8",
        "outputId": "4f042e17-429a-4a02-97f2-bd5c8a9d6adb"
      },
      "source": [
        "from google.colab import drive \n",
        "drive.mount('/content/drive')"
      ],
      "execution_count": null,
      "outputs": [
        {
          "output_type": "stream",
          "name": "stdout",
          "text": [
            "Mounted at /content/drive\n"
          ]
        }
      ]
    },
    {
      "cell_type": "markdown",
      "metadata": {
        "id": "ln2qAaBzXMPS"
      },
      "source": [
        "# **Import Some Library**"
      ]
    },
    {
      "cell_type": "code",
      "metadata": {
        "id": "FGaAVfRRzlxV"
      },
      "source": [
        "! pip install -q scikit-plot"
      ],
      "execution_count": null,
      "outputs": []
    },
    {
      "cell_type": "code",
      "metadata": {
        "id": "sUzhHDggz-Gt"
      },
      "source": [
        "import pandas as pd"
      ],
      "execution_count": null,
      "outputs": []
    },
    {
      "cell_type": "code",
      "metadata": {
        "id": "rjHdYuvA2tcJ"
      },
      "source": [
        "import numpy as np"
      ],
      "execution_count": null,
      "outputs": []
    },
    {
      "cell_type": "code",
      "metadata": {
        "id": "16Mb4NAP2409"
      },
      "source": [
        "import seaborn as sns\n",
        "import matplotlib.pyplot as plt"
      ],
      "execution_count": null,
      "outputs": []
    },
    {
      "cell_type": "markdown",
      "metadata": {
        "id": "bdcuvf5dXC5F"
      },
      "source": [
        "# **Load DataSet**"
      ]
    },
    {
      "cell_type": "code",
      "metadata": {
        "id": "qQW1nR9M0Kga"
      },
      "source": [
        "df=pd.read_csv(\"/content/drive/MyDrive/Colab Notebooks/Thesis /Dataset/Dataset.csv\")"
      ],
      "execution_count": null,
      "outputs": []
    },
    {
      "cell_type": "code",
      "metadata": {
        "colab": {
          "base_uri": "https://localhost:8080/"
        },
        "id": "4dVkEcXQ0dXx",
        "outputId": "d51cc700-a960-4bae-874f-bba78b6e3bab"
      },
      "source": [
        "df.head(10)"
      ],
      "execution_count": null,
      "outputs": [
        {
          "output_type": "execute_result",
          "data": {
            "text/html": [
              "<div>\n",
              "<style scoped>\n",
              "    .dataframe tbody tr th:only-of-type {\n",
              "        vertical-align: middle;\n",
              "    }\n",
              "\n",
              "    .dataframe tbody tr th {\n",
              "        vertical-align: top;\n",
              "    }\n",
              "\n",
              "    .dataframe thead th {\n",
              "        text-align: right;\n",
              "    }\n",
              "</style>\n",
              "<table border=\"1\" class=\"dataframe\">\n",
              "  <thead>\n",
              "    <tr style=\"text-align: right;\">\n",
              "      <th></th>\n",
              "      <th>Timestamp</th>\n",
              "      <th>What's the farmer's name?</th>\n",
              "      <th>What's the age of the farmer?</th>\n",
              "      <th>How many family member;s do you have</th>\n",
              "      <th>How many childern's do you have?</th>\n",
              "      <th>How many spouses do you have?</th>\n",
              "      <th>What's the Farmer's education level?</th>\n",
              "      <th>What's the Farmer's wife educational level?</th>\n",
              "      <th>How many earning person presentation in the family?</th>\n",
              "      <th>Total family income in month-</th>\n",
              "      <th>Do you have any higher educational person in the family?</th>\n",
              "      <th>Do you have your own house?</th>\n",
              "      <th>What is the type of the house?</th>\n",
              "      <th>Do you have any extra incone source?</th>\n",
              "      <th>Amount of own land?</th>\n",
              "      <th>How much land does the farmer cultivate?</th>\n",
              "      <th>Do you work as a sharecroper in another's land?</th>\n",
              "      <th>Do you have any loan?</th>\n",
              "      <th>Is the farmer drag addicted?</th>\n",
              "      <th>Are the childern's drag addicted?</th>\n",
              "      <th>Is there any severely sick family member?</th>\n",
              "      <th>What is the time duration between home and school?</th>\n",
              "      <th>What is the educational background of farmer's offspring?</th>\n",
              "    </tr>\n",
              "  </thead>\n",
              "  <tbody>\n",
              "    <tr>\n",
              "      <th>0</th>\n",
              "      <td>6/23/2021 16:37</td>\n",
              "      <td>Md. Nur Hossain</td>\n",
              "      <td>51</td>\n",
              "      <td>5</td>\n",
              "      <td>2</td>\n",
              "      <td>1</td>\n",
              "      <td>AH</td>\n",
              "      <td>AC5BS</td>\n",
              "      <td>1</td>\n",
              "      <td>Medium</td>\n",
              "      <td>No</td>\n",
              "      <td>Yes</td>\n",
              "      <td>Brick_Built</td>\n",
              "      <td>Yes</td>\n",
              "      <td>8.0</td>\n",
              "      <td>4.0</td>\n",
              "      <td>No</td>\n",
              "      <td>No</td>\n",
              "      <td>No</td>\n",
              "      <td>No</td>\n",
              "      <td>No</td>\n",
              "      <td>Average</td>\n",
              "      <td>AH</td>\n",
              "    </tr>\n",
              "    <tr>\n",
              "      <th>1</th>\n",
              "      <td>6/23/2021 16:49</td>\n",
              "      <td>Md. Ajit</td>\n",
              "      <td>55</td>\n",
              "      <td>5</td>\n",
              "      <td>3</td>\n",
              "      <td>1</td>\n",
              "      <td>Illiterate</td>\n",
              "      <td>Illiterate</td>\n",
              "      <td>3</td>\n",
              "      <td>Low</td>\n",
              "      <td>No</td>\n",
              "      <td>Yes</td>\n",
              "      <td>Mud_Built</td>\n",
              "      <td>No</td>\n",
              "      <td>1.5</td>\n",
              "      <td>3.5</td>\n",
              "      <td>Yes</td>\n",
              "      <td>Yes</td>\n",
              "      <td>No</td>\n",
              "      <td>No</td>\n",
              "      <td>No</td>\n",
              "      <td>Long</td>\n",
              "      <td>Illiterate</td>\n",
              "    </tr>\n",
              "    <tr>\n",
              "      <th>2</th>\n",
              "      <td>6/23/2021 17:07</td>\n",
              "      <td>Md. Hobibor Rahman</td>\n",
              "      <td>57</td>\n",
              "      <td>4</td>\n",
              "      <td>2</td>\n",
              "      <td>2</td>\n",
              "      <td>Illiterate</td>\n",
              "      <td>BC5</td>\n",
              "      <td>2</td>\n",
              "      <td>Low</td>\n",
              "      <td>No</td>\n",
              "      <td>Yes</td>\n",
              "      <td>Mud_Built</td>\n",
              "      <td>No</td>\n",
              "      <td>2.1</td>\n",
              "      <td>3.0</td>\n",
              "      <td>Yes</td>\n",
              "      <td>Yes</td>\n",
              "      <td>No</td>\n",
              "      <td>No</td>\n",
              "      <td>No</td>\n",
              "      <td>Long</td>\n",
              "      <td>Illiterate</td>\n",
              "    </tr>\n",
              "    <tr>\n",
              "      <th>3</th>\n",
              "      <td>6/23/2021 18:02</td>\n",
              "      <td>Md. Mofijur</td>\n",
              "      <td>47</td>\n",
              "      <td>3</td>\n",
              "      <td>1</td>\n",
              "      <td>1</td>\n",
              "      <td>Illiterate</td>\n",
              "      <td>AC5BS</td>\n",
              "      <td>2</td>\n",
              "      <td>Low</td>\n",
              "      <td>No</td>\n",
              "      <td>Yes</td>\n",
              "      <td>Mud built</td>\n",
              "      <td>No</td>\n",
              "      <td>1.5</td>\n",
              "      <td>2.0</td>\n",
              "      <td>Yes</td>\n",
              "      <td>Yes</td>\n",
              "      <td>No</td>\n",
              "      <td>No</td>\n",
              "      <td>No</td>\n",
              "      <td>Long</td>\n",
              "      <td>AC5BS</td>\n",
              "    </tr>\n",
              "    <tr>\n",
              "      <th>4</th>\n",
              "      <td>6/23/2021 18:09</td>\n",
              "      <td>Md. Tobibor Rahman</td>\n",
              "      <td>65</td>\n",
              "      <td>5</td>\n",
              "      <td>4</td>\n",
              "      <td>1</td>\n",
              "      <td>Illiterate</td>\n",
              "      <td>Illiterate</td>\n",
              "      <td>1</td>\n",
              "      <td>Low</td>\n",
              "      <td>No</td>\n",
              "      <td>Yes</td>\n",
              "      <td>Mud_Built</td>\n",
              "      <td>No</td>\n",
              "      <td>3.0</td>\n",
              "      <td>2.0</td>\n",
              "      <td>Yes</td>\n",
              "      <td>No</td>\n",
              "      <td>No</td>\n",
              "      <td>No</td>\n",
              "      <td>No</td>\n",
              "      <td>Long</td>\n",
              "      <td>Illiterate</td>\n",
              "    </tr>\n",
              "    <tr>\n",
              "      <th>5</th>\n",
              "      <td>6/23/2021 19:16</td>\n",
              "      <td>Babur Ali</td>\n",
              "      <td>63</td>\n",
              "      <td>6</td>\n",
              "      <td>4</td>\n",
              "      <td>1</td>\n",
              "      <td>Illiterate</td>\n",
              "      <td>Illiterate</td>\n",
              "      <td>3</td>\n",
              "      <td>Low</td>\n",
              "      <td>No</td>\n",
              "      <td>Yes</td>\n",
              "      <td>Mud_Built</td>\n",
              "      <td>No</td>\n",
              "      <td>1.0</td>\n",
              "      <td>2.0</td>\n",
              "      <td>Yes</td>\n",
              "      <td>No</td>\n",
              "      <td>No</td>\n",
              "      <td>No</td>\n",
              "      <td>No</td>\n",
              "      <td>Average</td>\n",
              "      <td>Illiterate</td>\n",
              "    </tr>\n",
              "    <tr>\n",
              "      <th>6</th>\n",
              "      <td>6/23/2021 22:25</td>\n",
              "      <td>Nur Islam</td>\n",
              "      <td>60</td>\n",
              "      <td>8</td>\n",
              "      <td>3</td>\n",
              "      <td>1</td>\n",
              "      <td>Illiterate</td>\n",
              "      <td>Illiterate</td>\n",
              "      <td>2</td>\n",
              "      <td>Low</td>\n",
              "      <td>No</td>\n",
              "      <td>Yes</td>\n",
              "      <td>Mud_Built</td>\n",
              "      <td>No</td>\n",
              "      <td>0.5</td>\n",
              "      <td>2.0</td>\n",
              "      <td>Yes</td>\n",
              "      <td>Yes</td>\n",
              "      <td>No</td>\n",
              "      <td>No</td>\n",
              "      <td>No</td>\n",
              "      <td>Long</td>\n",
              "      <td>Illiterate</td>\n",
              "    </tr>\n",
              "    <tr>\n",
              "      <th>7</th>\n",
              "      <td>6/23/2021 22:30</td>\n",
              "      <td>Md. Usuf ALi</td>\n",
              "      <td>59</td>\n",
              "      <td>4</td>\n",
              "      <td>2</td>\n",
              "      <td>1</td>\n",
              "      <td>BC5</td>\n",
              "      <td>BC5</td>\n",
              "      <td>2</td>\n",
              "      <td>Low</td>\n",
              "      <td>No</td>\n",
              "      <td>Yes</td>\n",
              "      <td>Mud_Built</td>\n",
              "      <td>No</td>\n",
              "      <td>3.0</td>\n",
              "      <td>2.0</td>\n",
              "      <td>No</td>\n",
              "      <td>No</td>\n",
              "      <td>No</td>\n",
              "      <td>No</td>\n",
              "      <td>No</td>\n",
              "      <td>Long</td>\n",
              "      <td>AC5BS</td>\n",
              "    </tr>\n",
              "    <tr>\n",
              "      <th>8</th>\n",
              "      <td>6/23/2021 22:32</td>\n",
              "      <td>Md. Shirazul Islam</td>\n",
              "      <td>48</td>\n",
              "      <td>6</td>\n",
              "      <td>2</td>\n",
              "      <td>1</td>\n",
              "      <td>BC5</td>\n",
              "      <td>AC5BS</td>\n",
              "      <td>1</td>\n",
              "      <td>Medium</td>\n",
              "      <td>No</td>\n",
              "      <td>Yes</td>\n",
              "      <td>Brick_Built</td>\n",
              "      <td>Yes</td>\n",
              "      <td>4.0</td>\n",
              "      <td>3.0</td>\n",
              "      <td>No</td>\n",
              "      <td>Yes</td>\n",
              "      <td>No</td>\n",
              "      <td>No</td>\n",
              "      <td>No</td>\n",
              "      <td>Long</td>\n",
              "      <td>ASBH</td>\n",
              "    </tr>\n",
              "    <tr>\n",
              "      <th>9</th>\n",
              "      <td>6/23/2021 23:18</td>\n",
              "      <td>Md. Khalek</td>\n",
              "      <td>45</td>\n",
              "      <td>4</td>\n",
              "      <td>2</td>\n",
              "      <td>1</td>\n",
              "      <td>BC5</td>\n",
              "      <td>BC5</td>\n",
              "      <td>1</td>\n",
              "      <td>Low</td>\n",
              "      <td>No</td>\n",
              "      <td>Yes</td>\n",
              "      <td>Mud_Built</td>\n",
              "      <td>Yes</td>\n",
              "      <td>3.0</td>\n",
              "      <td>4.0</td>\n",
              "      <td>Yes</td>\n",
              "      <td>Yes</td>\n",
              "      <td>No</td>\n",
              "      <td>No</td>\n",
              "      <td>No</td>\n",
              "      <td>Long</td>\n",
              "      <td>AC5BS</td>\n",
              "    </tr>\n",
              "  </tbody>\n",
              "</table>\n",
              "</div>"
            ],
            "text/plain": [
              "         Timestamp  ... What is the educational background of farmer's offspring?\n",
              "0  6/23/2021 16:37  ...                                                 AH       \n",
              "1  6/23/2021 16:49  ...                                         Illiterate       \n",
              "2  6/23/2021 17:07  ...                                         Illiterate       \n",
              "3  6/23/2021 18:02  ...                                              AC5BS       \n",
              "4  6/23/2021 18:09  ...                                         Illiterate       \n",
              "5  6/23/2021 19:16  ...                                         Illiterate       \n",
              "6  6/23/2021 22:25  ...                                         Illiterate       \n",
              "7  6/23/2021 22:30  ...                                              AC5BS       \n",
              "8  6/23/2021 22:32  ...                                               ASBH       \n",
              "9  6/23/2021 23:18  ...                                              AC5BS       \n",
              "\n",
              "[10 rows x 23 columns]"
            ]
          },
          "metadata": {},
          "execution_count": 7
        }
      ]
    },
    {
      "cell_type": "code",
      "metadata": {
        "colab": {
          "base_uri": "https://localhost:8080/"
        },
        "id": "9nH3ROMf3sti",
        "outputId": "2a6cf35c-5965-4468-8a7d-e616ceb04d63"
      },
      "source": [
        "df.shape"
      ],
      "execution_count": null,
      "outputs": [
        {
          "output_type": "execute_result",
          "data": {
            "text/plain": [
              "(506, 23)"
            ]
          },
          "metadata": {},
          "execution_count": 8
        }
      ]
    },
    {
      "cell_type": "code",
      "metadata": {
        "colab": {
          "base_uri": "https://localhost:8080/"
        },
        "id": "AYTwv5iuzAOK",
        "outputId": "92a68f0a-56d8-4acf-a65e-4950a0e77306"
      },
      "source": [
        "df.columns"
      ],
      "execution_count": null,
      "outputs": [
        {
          "output_type": "execute_result",
          "data": {
            "text/plain": [
              "Index(['Timestamp', 'What's the farmer's name?',\n",
              "       'What's the age of the farmer?', 'How many family member;s do you have',\n",
              "       'How many childern's do you have?', 'How many spouses do you have?',\n",
              "       'What's the Farmer's education level?',\n",
              "       'What's the Farmer's wife educational level?',\n",
              "       'How many earning person presentation in the family?',\n",
              "       'Total family income in month-',\n",
              "       'Do you have any higher educational person in the family?',\n",
              "       'Do you have your own house?', 'What is the type of the house?',\n",
              "       'Do you have any extra incone source?', 'Amount of own land?',\n",
              "       'How much land does the farmer cultivate?',\n",
              "       'Do you work as a sharecroper in another's land?',\n",
              "       'Do you have any loan?', 'Is the farmer drag addicted?',\n",
              "       'Are the childern's drag addicted?',\n",
              "       'Is there any severely sick family member?',\n",
              "       'What is the time duration between home and school?',\n",
              "       'What is the educational background of farmer's offspring?'],\n",
              "      dtype='object')"
            ]
          },
          "metadata": {},
          "execution_count": 9
        }
      ]
    },
    {
      "cell_type": "code",
      "metadata": {
        "colab": {
          "base_uri": "https://localhost:8080/"
        },
        "id": "2IOEZtRt3rkp",
        "outputId": "269628a2-17c4-4d97-b91f-58b01968402e"
      },
      "source": [
        "df[\"What is the educational background of farmer's offspring?\"].unique()"
      ],
      "execution_count": null,
      "outputs": [
        {
          "output_type": "execute_result",
          "data": {
            "text/plain": [
              "array(['AH', 'Illiterate', 'AC5BS', 'ASBH', 'BC5'], dtype=object)"
            ]
          },
          "metadata": {},
          "execution_count": 10
        }
      ]
    },
    {
      "cell_type": "code",
      "metadata": {
        "colab": {
          "base_uri": "https://localhost:8080/"
        },
        "id": "nU5NaE5wUcA2",
        "outputId": "d931becc-661f-47c2-a3cb-b4c53d18acf0"
      },
      "source": [
        "pd.value_counts(df[\"What is the educational background of farmer's offspring?\"])"
      ],
      "execution_count": null,
      "outputs": [
        {
          "output_type": "execute_result",
          "data": {
            "text/plain": [
              "Illiterate    136\n",
              "AC5BS         117\n",
              "BC5            98\n",
              "AH             88\n",
              "ASBH           67\n",
              "Name: What is the educational background of farmer's offspring?, dtype: int64"
            ]
          },
          "metadata": {},
          "execution_count": 11
        }
      ]
    },
    {
      "cell_type": "code",
      "metadata": {
        "colab": {
          "base_uri": "https://localhost:8080/"
        },
        "id": "djTeKU_S3_Z6",
        "outputId": "a0242787-884d-48dd-c06f-619708d5cd6c"
      },
      "source": [
        "df[\"What is the educational background of farmer's offspring?\"].count()"
      ],
      "execution_count": null,
      "outputs": [
        {
          "output_type": "execute_result",
          "data": {
            "text/plain": [
              "506"
            ]
          },
          "metadata": {},
          "execution_count": 12
        }
      ]
    },
    {
      "cell_type": "code",
      "metadata": {
        "id": "TxUOnmitz-5r"
      },
      "source": [
        "df.rename({\"What's the farmer's name?\":'Name'},axis=1,inplace=True)\n",
        "df.rename({\"What's the age of the farmer?\":'Age'},axis=1,inplace=True)\n",
        "df.rename({\"How many family member;s do you have\":'FM'},axis=1,inplace=True)\n",
        "df.rename({\"How many childern's do you have?\":'NC'},axis=1,inplace=True)\n",
        "df.rename({\"How many spouses do you have?\":'NS'},axis=1,inplace=True)\n",
        "df.rename({\"What's the Farmer's education level?\":'FQ'},axis=1,inplace=True)\n",
        "df.rename({\"What's the Farmer's wife educational level?\":'FWQ'},axis=1,inplace=True)\n",
        "df.rename({\"How many earning person presentation in the family?\":'NEP'},axis=1,inplace=True)\n",
        "df.rename({\"Total family income in month-\":'FMI'},axis=1,inplace=True)\n",
        "df.rename({\"Do you have any higher educational person in the family?\":'HEP'},axis=1,inplace=True)\n",
        "df.rename({\"Do you have your own house?\":'OH'},axis=1,inplace=True)\n",
        "df.rename({\"What is the type of the house?\":'HT'},axis=1,inplace=True)\n",
        "df.rename({\"Do you have any extra incone source?\":'EIS'},axis=1,inplace=True)\n",
        "df.rename({\"Amount of own land?\":'AOL'},axis=1,inplace=True)\n",
        "df.rename({\"How much land does the farmer cultivate?\":'ALC'},axis=1,inplace=True)\n",
        "df.rename({\"Do you work as a sharecroper in another's land?\":'SC'},axis=1,inplace=True)\n",
        "df.rename({\"Do you have any loan?\":'LOAN'},axis=1,inplace=True)\n",
        "df.rename({\"Is the farmer drag addicted?\":'FDA'},axis=1,inplace=True)\n",
        "df.rename({\"Are the childern's drag addicted?\":'CDA'},axis=1,inplace=True)\n",
        "df.rename({\"Is there any severely sick family member?\":'SFM'},axis=1,inplace=True)\n",
        "df.rename({\"What is the time duration between home and school?\":'TDBHC'},axis=1,inplace=True)\n",
        "df.rename({\"What is the educational background of farmer's offspring?\":'CQ'},axis=1,inplace=True)\n"
      ],
      "execution_count": null,
      "outputs": []
    },
    {
      "cell_type": "code",
      "metadata": {
        "colab": {
          "base_uri": "https://localhost:8080/"
        },
        "id": "1Xovfsubz_EV",
        "outputId": "94517a8b-72d7-4b4e-aaee-8e2739be1b93"
      },
      "source": [
        "df.head()"
      ],
      "execution_count": null,
      "outputs": [
        {
          "output_type": "execute_result",
          "data": {
            "text/html": [
              "<div>\n",
              "<style scoped>\n",
              "    .dataframe tbody tr th:only-of-type {\n",
              "        vertical-align: middle;\n",
              "    }\n",
              "\n",
              "    .dataframe tbody tr th {\n",
              "        vertical-align: top;\n",
              "    }\n",
              "\n",
              "    .dataframe thead th {\n",
              "        text-align: right;\n",
              "    }\n",
              "</style>\n",
              "<table border=\"1\" class=\"dataframe\">\n",
              "  <thead>\n",
              "    <tr style=\"text-align: right;\">\n",
              "      <th></th>\n",
              "      <th>Timestamp</th>\n",
              "      <th>Name</th>\n",
              "      <th>Age</th>\n",
              "      <th>FM</th>\n",
              "      <th>NC</th>\n",
              "      <th>NS</th>\n",
              "      <th>FQ</th>\n",
              "      <th>FWQ</th>\n",
              "      <th>NEP</th>\n",
              "      <th>FMI</th>\n",
              "      <th>HEP</th>\n",
              "      <th>OH</th>\n",
              "      <th>HT</th>\n",
              "      <th>EIS</th>\n",
              "      <th>AOL</th>\n",
              "      <th>ALC</th>\n",
              "      <th>SC</th>\n",
              "      <th>LOAN</th>\n",
              "      <th>FDA</th>\n",
              "      <th>CDA</th>\n",
              "      <th>SFM</th>\n",
              "      <th>TDBHC</th>\n",
              "      <th>CQ</th>\n",
              "    </tr>\n",
              "  </thead>\n",
              "  <tbody>\n",
              "    <tr>\n",
              "      <th>0</th>\n",
              "      <td>6/23/2021 16:37</td>\n",
              "      <td>Md. Nur Hossain</td>\n",
              "      <td>51</td>\n",
              "      <td>5</td>\n",
              "      <td>2</td>\n",
              "      <td>1</td>\n",
              "      <td>AH</td>\n",
              "      <td>AC5BS</td>\n",
              "      <td>1</td>\n",
              "      <td>Medium</td>\n",
              "      <td>No</td>\n",
              "      <td>Yes</td>\n",
              "      <td>Brick_Built</td>\n",
              "      <td>Yes</td>\n",
              "      <td>8.0</td>\n",
              "      <td>4.0</td>\n",
              "      <td>No</td>\n",
              "      <td>No</td>\n",
              "      <td>No</td>\n",
              "      <td>No</td>\n",
              "      <td>No</td>\n",
              "      <td>Average</td>\n",
              "      <td>AH</td>\n",
              "    </tr>\n",
              "    <tr>\n",
              "      <th>1</th>\n",
              "      <td>6/23/2021 16:49</td>\n",
              "      <td>Md. Ajit</td>\n",
              "      <td>55</td>\n",
              "      <td>5</td>\n",
              "      <td>3</td>\n",
              "      <td>1</td>\n",
              "      <td>Illiterate</td>\n",
              "      <td>Illiterate</td>\n",
              "      <td>3</td>\n",
              "      <td>Low</td>\n",
              "      <td>No</td>\n",
              "      <td>Yes</td>\n",
              "      <td>Mud_Built</td>\n",
              "      <td>No</td>\n",
              "      <td>1.5</td>\n",
              "      <td>3.5</td>\n",
              "      <td>Yes</td>\n",
              "      <td>Yes</td>\n",
              "      <td>No</td>\n",
              "      <td>No</td>\n",
              "      <td>No</td>\n",
              "      <td>Long</td>\n",
              "      <td>Illiterate</td>\n",
              "    </tr>\n",
              "    <tr>\n",
              "      <th>2</th>\n",
              "      <td>6/23/2021 17:07</td>\n",
              "      <td>Md. Hobibor Rahman</td>\n",
              "      <td>57</td>\n",
              "      <td>4</td>\n",
              "      <td>2</td>\n",
              "      <td>2</td>\n",
              "      <td>Illiterate</td>\n",
              "      <td>BC5</td>\n",
              "      <td>2</td>\n",
              "      <td>Low</td>\n",
              "      <td>No</td>\n",
              "      <td>Yes</td>\n",
              "      <td>Mud_Built</td>\n",
              "      <td>No</td>\n",
              "      <td>2.1</td>\n",
              "      <td>3.0</td>\n",
              "      <td>Yes</td>\n",
              "      <td>Yes</td>\n",
              "      <td>No</td>\n",
              "      <td>No</td>\n",
              "      <td>No</td>\n",
              "      <td>Long</td>\n",
              "      <td>Illiterate</td>\n",
              "    </tr>\n",
              "    <tr>\n",
              "      <th>3</th>\n",
              "      <td>6/23/2021 18:02</td>\n",
              "      <td>Md. Mofijur</td>\n",
              "      <td>47</td>\n",
              "      <td>3</td>\n",
              "      <td>1</td>\n",
              "      <td>1</td>\n",
              "      <td>Illiterate</td>\n",
              "      <td>AC5BS</td>\n",
              "      <td>2</td>\n",
              "      <td>Low</td>\n",
              "      <td>No</td>\n",
              "      <td>Yes</td>\n",
              "      <td>Mud built</td>\n",
              "      <td>No</td>\n",
              "      <td>1.5</td>\n",
              "      <td>2.0</td>\n",
              "      <td>Yes</td>\n",
              "      <td>Yes</td>\n",
              "      <td>No</td>\n",
              "      <td>No</td>\n",
              "      <td>No</td>\n",
              "      <td>Long</td>\n",
              "      <td>AC5BS</td>\n",
              "    </tr>\n",
              "    <tr>\n",
              "      <th>4</th>\n",
              "      <td>6/23/2021 18:09</td>\n",
              "      <td>Md. Tobibor Rahman</td>\n",
              "      <td>65</td>\n",
              "      <td>5</td>\n",
              "      <td>4</td>\n",
              "      <td>1</td>\n",
              "      <td>Illiterate</td>\n",
              "      <td>Illiterate</td>\n",
              "      <td>1</td>\n",
              "      <td>Low</td>\n",
              "      <td>No</td>\n",
              "      <td>Yes</td>\n",
              "      <td>Mud_Built</td>\n",
              "      <td>No</td>\n",
              "      <td>3.0</td>\n",
              "      <td>2.0</td>\n",
              "      <td>Yes</td>\n",
              "      <td>No</td>\n",
              "      <td>No</td>\n",
              "      <td>No</td>\n",
              "      <td>No</td>\n",
              "      <td>Long</td>\n",
              "      <td>Illiterate</td>\n",
              "    </tr>\n",
              "  </tbody>\n",
              "</table>\n",
              "</div>"
            ],
            "text/plain": [
              "         Timestamp                Name  Age  FM  ...  CDA  SFM    TDBHC          CQ\n",
              "0  6/23/2021 16:37     Md. Nur Hossain   51   5  ...   No   No  Average          AH\n",
              "1  6/23/2021 16:49            Md. Ajit   55   5  ...   No   No     Long  Illiterate\n",
              "2  6/23/2021 17:07  Md. Hobibor Rahman   57   4  ...   No   No     Long  Illiterate\n",
              "3  6/23/2021 18:02        Md. Mofijur    47   3  ...   No   No     Long       AC5BS\n",
              "4  6/23/2021 18:09  Md. Tobibor Rahman   65   5  ...   No   No     Long  Illiterate\n",
              "\n",
              "[5 rows x 23 columns]"
            ]
          },
          "metadata": {},
          "execution_count": 14
        }
      ]
    },
    {
      "cell_type": "code",
      "metadata": {
        "id": "G_Tqev-kz_Gg"
      },
      "source": [
        "df.drop('Timestamp',axis=1,inplace=True)"
      ],
      "execution_count": null,
      "outputs": []
    },
    {
      "cell_type": "code",
      "metadata": {
        "id": "YxODf6Viz_JE"
      },
      "source": [
        "df.drop('Name',axis=1,inplace=True)"
      ],
      "execution_count": null,
      "outputs": []
    },
    {
      "cell_type": "code",
      "metadata": {
        "colab": {
          "base_uri": "https://localhost:8080/"
        },
        "id": "zop5lKz9z_LH",
        "outputId": "942fffea-69b6-4e97-e893-c978dbcbd0af"
      },
      "source": [
        "df.head()"
      ],
      "execution_count": null,
      "outputs": [
        {
          "output_type": "execute_result",
          "data": {
            "text/html": [
              "<div>\n",
              "<style scoped>\n",
              "    .dataframe tbody tr th:only-of-type {\n",
              "        vertical-align: middle;\n",
              "    }\n",
              "\n",
              "    .dataframe tbody tr th {\n",
              "        vertical-align: top;\n",
              "    }\n",
              "\n",
              "    .dataframe thead th {\n",
              "        text-align: right;\n",
              "    }\n",
              "</style>\n",
              "<table border=\"1\" class=\"dataframe\">\n",
              "  <thead>\n",
              "    <tr style=\"text-align: right;\">\n",
              "      <th></th>\n",
              "      <th>Age</th>\n",
              "      <th>FM</th>\n",
              "      <th>NC</th>\n",
              "      <th>NS</th>\n",
              "      <th>FQ</th>\n",
              "      <th>FWQ</th>\n",
              "      <th>NEP</th>\n",
              "      <th>FMI</th>\n",
              "      <th>HEP</th>\n",
              "      <th>OH</th>\n",
              "      <th>HT</th>\n",
              "      <th>EIS</th>\n",
              "      <th>AOL</th>\n",
              "      <th>ALC</th>\n",
              "      <th>SC</th>\n",
              "      <th>LOAN</th>\n",
              "      <th>FDA</th>\n",
              "      <th>CDA</th>\n",
              "      <th>SFM</th>\n",
              "      <th>TDBHC</th>\n",
              "      <th>CQ</th>\n",
              "    </tr>\n",
              "  </thead>\n",
              "  <tbody>\n",
              "    <tr>\n",
              "      <th>0</th>\n",
              "      <td>51</td>\n",
              "      <td>5</td>\n",
              "      <td>2</td>\n",
              "      <td>1</td>\n",
              "      <td>AH</td>\n",
              "      <td>AC5BS</td>\n",
              "      <td>1</td>\n",
              "      <td>Medium</td>\n",
              "      <td>No</td>\n",
              "      <td>Yes</td>\n",
              "      <td>Brick_Built</td>\n",
              "      <td>Yes</td>\n",
              "      <td>8.0</td>\n",
              "      <td>4.0</td>\n",
              "      <td>No</td>\n",
              "      <td>No</td>\n",
              "      <td>No</td>\n",
              "      <td>No</td>\n",
              "      <td>No</td>\n",
              "      <td>Average</td>\n",
              "      <td>AH</td>\n",
              "    </tr>\n",
              "    <tr>\n",
              "      <th>1</th>\n",
              "      <td>55</td>\n",
              "      <td>5</td>\n",
              "      <td>3</td>\n",
              "      <td>1</td>\n",
              "      <td>Illiterate</td>\n",
              "      <td>Illiterate</td>\n",
              "      <td>3</td>\n",
              "      <td>Low</td>\n",
              "      <td>No</td>\n",
              "      <td>Yes</td>\n",
              "      <td>Mud_Built</td>\n",
              "      <td>No</td>\n",
              "      <td>1.5</td>\n",
              "      <td>3.5</td>\n",
              "      <td>Yes</td>\n",
              "      <td>Yes</td>\n",
              "      <td>No</td>\n",
              "      <td>No</td>\n",
              "      <td>No</td>\n",
              "      <td>Long</td>\n",
              "      <td>Illiterate</td>\n",
              "    </tr>\n",
              "    <tr>\n",
              "      <th>2</th>\n",
              "      <td>57</td>\n",
              "      <td>4</td>\n",
              "      <td>2</td>\n",
              "      <td>2</td>\n",
              "      <td>Illiterate</td>\n",
              "      <td>BC5</td>\n",
              "      <td>2</td>\n",
              "      <td>Low</td>\n",
              "      <td>No</td>\n",
              "      <td>Yes</td>\n",
              "      <td>Mud_Built</td>\n",
              "      <td>No</td>\n",
              "      <td>2.1</td>\n",
              "      <td>3.0</td>\n",
              "      <td>Yes</td>\n",
              "      <td>Yes</td>\n",
              "      <td>No</td>\n",
              "      <td>No</td>\n",
              "      <td>No</td>\n",
              "      <td>Long</td>\n",
              "      <td>Illiterate</td>\n",
              "    </tr>\n",
              "    <tr>\n",
              "      <th>3</th>\n",
              "      <td>47</td>\n",
              "      <td>3</td>\n",
              "      <td>1</td>\n",
              "      <td>1</td>\n",
              "      <td>Illiterate</td>\n",
              "      <td>AC5BS</td>\n",
              "      <td>2</td>\n",
              "      <td>Low</td>\n",
              "      <td>No</td>\n",
              "      <td>Yes</td>\n",
              "      <td>Mud built</td>\n",
              "      <td>No</td>\n",
              "      <td>1.5</td>\n",
              "      <td>2.0</td>\n",
              "      <td>Yes</td>\n",
              "      <td>Yes</td>\n",
              "      <td>No</td>\n",
              "      <td>No</td>\n",
              "      <td>No</td>\n",
              "      <td>Long</td>\n",
              "      <td>AC5BS</td>\n",
              "    </tr>\n",
              "    <tr>\n",
              "      <th>4</th>\n",
              "      <td>65</td>\n",
              "      <td>5</td>\n",
              "      <td>4</td>\n",
              "      <td>1</td>\n",
              "      <td>Illiterate</td>\n",
              "      <td>Illiterate</td>\n",
              "      <td>1</td>\n",
              "      <td>Low</td>\n",
              "      <td>No</td>\n",
              "      <td>Yes</td>\n",
              "      <td>Mud_Built</td>\n",
              "      <td>No</td>\n",
              "      <td>3.0</td>\n",
              "      <td>2.0</td>\n",
              "      <td>Yes</td>\n",
              "      <td>No</td>\n",
              "      <td>No</td>\n",
              "      <td>No</td>\n",
              "      <td>No</td>\n",
              "      <td>Long</td>\n",
              "      <td>Illiterate</td>\n",
              "    </tr>\n",
              "  </tbody>\n",
              "</table>\n",
              "</div>"
            ],
            "text/plain": [
              "   Age  FM  NC  NS          FQ  ... FDA  CDA SFM    TDBHC          CQ\n",
              "0   51   5   2   1          AH  ...  No   No  No  Average          AH\n",
              "1   55   5   3   1  Illiterate  ...  No   No  No     Long  Illiterate\n",
              "2   57   4   2   2  Illiterate  ...  No   No  No     Long  Illiterate\n",
              "3   47   3   1   1  Illiterate  ...  No   No  No     Long       AC5BS\n",
              "4   65   5   4   1  Illiterate  ...  No   No  No     Long  Illiterate\n",
              "\n",
              "[5 rows x 21 columns]"
            ]
          },
          "metadata": {},
          "execution_count": 17
        }
      ]
    },
    {
      "cell_type": "code",
      "metadata": {
        "colab": {
          "base_uri": "https://localhost:8080/"
        },
        "id": "Q26XDUEZAd0V",
        "outputId": "a26b6e39-ff53-4244-83de-75fedd0febf4"
      },
      "source": [
        "sns.set(rc={'figure.figsize':(10,8)})\n",
        "sns.countplot(x='CQ', data=df)"
      ],
      "execution_count": null,
      "outputs": [
        {
          "output_type": "execute_result",
          "data": {
            "text/plain": [
              "<matplotlib.axes._subplots.AxesSubplot at 0x7f5bc812c210>"
            ]
          },
          "metadata": {},
          "execution_count": 18
        },
        {
          "output_type": "display_data",
          "data": {
            "image/png": "[encoded data removed]",
            "text/plain": [
              "<Figure size 720x576 with 1 Axes>"
            ]
          },
          "metadata": {}
        }
      ]
    },
    {
      "cell_type": "code",
      "metadata": {
        "colab": {
          "base_uri": "https://localhost:8080/"
        },
        "id": "oB3HsUzf0hDR",
        "outputId": "aed783be-db43-493f-c902-b8d5a40425b3"
      },
      "source": [
        "sns.set(rc={'figure.figsize':(15,8.27)})\n",
        "sns.countplot(x='Age', data=df)"
      ],
      "execution_count": null,
      "outputs": [
        {
          "output_type": "execute_result",
          "data": {
            "text/plain": [
              "<matplotlib.axes._subplots.AxesSubplot at 0x7f5bb8fc88d0>"
            ]
          },
          "metadata": {},
          "execution_count": 19
        },
        {
          "output_type": "display_data",
          "data": {
            "image/png": "[encoded data removed]",
            "text/plain": [
              "<Figure size 1080x595.44 with 1 Axes>"
            ]
          },
          "metadata": {}
        }
      ]
    },
    {
      "cell_type": "code",
      "metadata": {
        "colab": {
          "base_uri": "https://localhost:8080/"
        },
        "id": "3egiBHAmGp4X",
        "outputId": "82957c97-102e-4118-ee41-3c6e5d4e252b"
      },
      "source": [
        "sns.countplot(x='FQ',hue='CQ',data=df,palette='colorblind',edgecolor=sns.color_palette('dark',n_colors=1))\n",
        "plt.savefig('/content/drive/MyDrive/Colab Notebooks/Thesis /Dataset/FQ&CQ.png')"
      ],
      "execution_count": null,
      "outputs": [
        {
          "output_type": "display_data",
          "data": {
            "image/png": "[encoded data removed]",
            "text/plain": [
              "<Figure size 1080x595.44 with 1 Axes>"
            ]
          },
          "metadata": {}
        }
      ]
    },
    {
      "cell_type": "code",
      "metadata": {
        "colab": {
          "base_uri": "https://localhost:8080/"
        },
        "id": "zmQJSRvhC9_S",
        "outputId": "1ec2f446-4640-4137-c46a-878803676cc9"
      },
      "source": [
        "sns.countplot(x='FWQ',hue='CQ',data=df,palette='colorblind',edgecolor=sns.color_palette('dark',n_colors=1))\n",
        "plt.savefig('/content/drive/MyDrive/Colab Notebooks/Thesis /Dataset/FWQ&CQ.png')"
      ],
      "execution_count": null,
      "outputs": [
        {
          "output_type": "display_data",
          "data": {
            "image/png": "[encoded data removed]",
            "text/plain": [
              "<Figure size 1080x595.44 with 1 Axes>"
            ]
          },
          "metadata": {}
        }
      ]
    },
    {
      "cell_type": "code",
      "metadata": {
        "colab": {
          "base_uri": "https://localhost:8080/"
        },
        "id": "6yyshCp3C-KT",
        "outputId": "940e9201-3094-49f0-d3c8-374b432b36b8"
      },
      "source": [
        "sns.countplot(x='FMI',hue='CQ',data=df,palette='colorblind',edgecolor=sns.color_palette('dark',n_colors=1))"
      ],
      "execution_count": null,
      "outputs": [
        {
          "output_type": "execute_result",
          "data": {
            "text/plain": [
              "<matplotlib.axes._subplots.AxesSubplot at 0x7f5bb8af2d90>"
            ]
          },
          "metadata": {},
          "execution_count": 22
        },
        {
          "output_type": "display_data",
          "data": {
            "image/png": "[encoded data removed]",
            "text/plain": [
              "<Figure size 1080x595.44 with 1 Axes>"
            ]
          },
          "metadata": {}
        }
      ]
    },
    {
      "cell_type": "code",
      "metadata": {
        "colab": {
          "base_uri": "https://localhost:8080/"
        },
        "id": "yvj4TA3oC-NE",
        "outputId": "86a7a085-f2e7-4419-946d-b059818b4bd8"
      },
      "source": [
        "sns.countplot(x='TDBHC',hue='CQ',data=df,palette='colorblind',edgecolor=sns.color_palette('dark',n_colors=1))"
      ],
      "execution_count": null,
      "outputs": [
        {
          "output_type": "execute_result",
          "data": {
            "text/plain": [
              "<matplotlib.axes._subplots.AxesSubplot at 0x7f5bb87f4750>"
            ]
          },
          "metadata": {},
          "execution_count": 23
        },
        {
          "output_type": "display_data",
          "data": {
            "image/png": "[encoded data removed]",
            "text/plain": [
              "<Figure size 1080x595.44 with 1 Axes>"
            ]
          },
          "metadata": {}
        }
      ]
    },
    {
      "cell_type": "code",
      "metadata": {
        "colab": {
          "base_uri": "https://localhost:8080/"
        },
        "id": "ulh0LWaNC-Qk",
        "outputId": "a2e255ef-de9c-4054-8b8d-72df0eccc947"
      },
      "source": [
        "df.describe()"
      ],
      "execution_count": null,
      "outputs": [
        {
          "output_type": "execute_result",
          "data": {
            "text/html": [
              "<div>\n",
              "<style scoped>\n",
              "    .dataframe tbody tr th:only-of-type {\n",
              "        vertical-align: middle;\n",
              "    }\n",
              "\n",
              "    .dataframe tbody tr th {\n",
              "        vertical-align: top;\n",
              "    }\n",
              "\n",
              "    .dataframe thead th {\n",
              "        text-align: right;\n",
              "    }\n",
              "</style>\n",
              "<table border=\"1\" class=\"dataframe\">\n",
              "  <thead>\n",
              "    <tr style=\"text-align: right;\">\n",
              "      <th></th>\n",
              "      <th>Age</th>\n",
              "      <th>FM</th>\n",
              "      <th>NC</th>\n",
              "      <th>NS</th>\n",
              "      <th>NEP</th>\n",
              "      <th>AOL</th>\n",
              "      <th>ALC</th>\n",
              "    </tr>\n",
              "  </thead>\n",
              "  <tbody>\n",
              "    <tr>\n",
              "      <th>count</th>\n",
              "      <td>506.000000</td>\n",
              "      <td>506.000000</td>\n",
              "      <td>506.000000</td>\n",
              "      <td>506.000000</td>\n",
              "      <td>506.000000</td>\n",
              "      <td>506.000000</td>\n",
              "      <td>506.000000</td>\n",
              "    </tr>\n",
              "    <tr>\n",
              "      <th>mean</th>\n",
              "      <td>54.843874</td>\n",
              "      <td>5.318182</td>\n",
              "      <td>2.768775</td>\n",
              "      <td>1.073123</td>\n",
              "      <td>1.456522</td>\n",
              "      <td>3.569209</td>\n",
              "      <td>3.713834</td>\n",
              "    </tr>\n",
              "    <tr>\n",
              "      <th>std</th>\n",
              "      <td>8.482091</td>\n",
              "      <td>1.576921</td>\n",
              "      <td>1.252282</td>\n",
              "      <td>0.260595</td>\n",
              "      <td>0.668297</td>\n",
              "      <td>3.773381</td>\n",
              "      <td>3.457311</td>\n",
              "    </tr>\n",
              "    <tr>\n",
              "      <th>min</th>\n",
              "      <td>30.000000</td>\n",
              "      <td>2.000000</td>\n",
              "      <td>1.000000</td>\n",
              "      <td>1.000000</td>\n",
              "      <td>1.000000</td>\n",
              "      <td>0.000000</td>\n",
              "      <td>0.500000</td>\n",
              "    </tr>\n",
              "    <tr>\n",
              "      <th>25%</th>\n",
              "      <td>48.000000</td>\n",
              "      <td>4.000000</td>\n",
              "      <td>2.000000</td>\n",
              "      <td>1.000000</td>\n",
              "      <td>1.000000</td>\n",
              "      <td>1.500000</td>\n",
              "      <td>2.000000</td>\n",
              "    </tr>\n",
              "    <tr>\n",
              "      <th>50%</th>\n",
              "      <td>55.000000</td>\n",
              "      <td>5.000000</td>\n",
              "      <td>3.000000</td>\n",
              "      <td>1.000000</td>\n",
              "      <td>1.000000</td>\n",
              "      <td>2.050000</td>\n",
              "      <td>3.000000</td>\n",
              "    </tr>\n",
              "    <tr>\n",
              "      <th>75%</th>\n",
              "      <td>60.000000</td>\n",
              "      <td>6.000000</td>\n",
              "      <td>3.000000</td>\n",
              "      <td>1.000000</td>\n",
              "      <td>2.000000</td>\n",
              "      <td>4.000000</td>\n",
              "      <td>4.000000</td>\n",
              "    </tr>\n",
              "    <tr>\n",
              "      <th>max</th>\n",
              "      <td>80.000000</td>\n",
              "      <td>12.000000</td>\n",
              "      <td>8.000000</td>\n",
              "      <td>2.000000</td>\n",
              "      <td>4.000000</td>\n",
              "      <td>30.000000</td>\n",
              "      <td>30.000000</td>\n",
              "    </tr>\n",
              "  </tbody>\n",
              "</table>\n",
              "</div>"
            ],
            "text/plain": [
              "              Age          FM          NC  ...         NEP         AOL         ALC\n",
              "count  506.000000  506.000000  506.000000  ...  506.000000  506.000000  506.000000\n",
              "mean    54.843874    5.318182    2.768775  ...    1.456522    3.569209    3.713834\n",
              "std      8.482091    1.576921    1.252282  ...    0.668297    3.773381    3.457311\n",
              "min     30.000000    2.000000    1.000000  ...    1.000000    0.000000    0.500000\n",
              "25%     48.000000    4.000000    2.000000  ...    1.000000    1.500000    2.000000\n",
              "50%     55.000000    5.000000    3.000000  ...    1.000000    2.050000    3.000000\n",
              "75%     60.000000    6.000000    3.000000  ...    2.000000    4.000000    4.000000\n",
              "max     80.000000   12.000000    8.000000  ...    4.000000   30.000000   30.000000\n",
              "\n",
              "[8 rows x 7 columns]"
            ]
          },
          "metadata": {},
          "execution_count": 24
        }
      ]
    },
    {
      "cell_type": "markdown",
      "metadata": {
        "id": "t-pgGHOQIG8f"
      },
      "source": [
        "# **Data Prerocessing**"
      ]
    },
    {
      "cell_type": "code",
      "metadata": {
        "colab": {
          "base_uri": "https://localhost:8080/"
        },
        "id": "DiA2L0c7Z-3U",
        "outputId": "a5cf22ba-ed76-4006-f96d-eb69f9261959"
      },
      "source": [
        "df.dtypes"
      ],
      "execution_count": null,
      "outputs": [
        {
          "output_type": "execute_result",
          "data": {
            "text/plain": [
              "Age        int64\n",
              "FM         int64\n",
              "NC         int64\n",
              "NS         int64\n",
              "FQ        object\n",
              "FWQ       object\n",
              "NEP        int64\n",
              "FMI       object\n",
              "HEP       object\n",
              "OH        object\n",
              "HT        object\n",
              "EIS       object\n",
              "AOL      float64\n",
              "ALC      float64\n",
              "SC        object\n",
              "LOAN      object\n",
              "FDA       object\n",
              "CDA       object\n",
              "SFM       object\n",
              "TDBHC     object\n",
              "CQ        object\n",
              "dtype: object"
            ]
          },
          "metadata": {},
          "execution_count": 25
        }
      ]
    },
    {
      "cell_type": "code",
      "metadata": {
        "colab": {
          "base_uri": "https://localhost:8080/"
        },
        "id": "44p6mCu3aMRs",
        "outputId": "9a57fe05-7b29-4e29-d736-52f09c810482"
      },
      "source": [
        "for col in df:\n",
        "  print(f'{col}: {df[col].unique()}')"
      ],
      "execution_count": null,
      "outputs": [
        {
          "output_type": "stream",
          "name": "stdout",
          "text": [
            "Age: [51 55 57 47 65 63 60 59 48 45 50 54 58 68 67 56 70 46 53 52 49 73 62 80\n",
            " 64 69 66 76 42 75 72 40 38 30 44 61 39 71 41 43]\n",
            "FM: [ 5  4  3  6  8  7  9 10  2 12]\n",
            "NC: [2 3 1 4 6 5 7 8]\n",
            "NS: [1 2]\n",
            "FQ: ['AH' 'Illiterate' 'BC5' 'ASBH' 'Below Class 5' 'AC5BS']\n",
            "FWQ: ['AC5BS' 'Illiterate' 'BC5' 'ASBH' 'AH']\n",
            "NEP: [1 3 2 4]\n",
            "FMI: ['Medium' 'Low' 'High']\n",
            "HEP: ['No' 'Yes']\n",
            "OH: ['Yes' 'No']\n",
            "HT: ['Brick_Built' 'Mud_Built' 'Mud built' 'Brick built']\n",
            "EIS: ['Yes' 'No']\n",
            "AOL: [ 8.    1.5   2.1   3.    1.    0.5   4.    1.3   2.    7.    0.1  10.\n",
            " 12.   20.    6.    2.5   0.15  0.6   0.7  13.   16.    3.5  15.    5.\n",
            "  0.12  9.   22.    0.   30.    0.3  14.   11.    5.5 ]\n",
            "ALC: [ 4.   3.5  3.   2.   2.5  8.   5.   1.   9.   1.5 18.  11.   4.5 12.\n",
            " 10.  30.  15.   7.   6.   0.5  6.5 14.  20.   2.6  3.6  7.6  2.7  1.8\n",
            "  1.7 19.  28.   2.4 13.  16.   3.3  1.1]\n",
            "SC: ['No' 'Yes']\n",
            "LOAN: ['No' 'Yes']\n",
            "FDA: ['No' 'Yes']\n",
            "CDA: ['No' 'Yes']\n",
            "SFM: ['No' 'Yes']\n",
            "TDBHC: ['Average' 'Long' 'Short']\n",
            "CQ: ['AH' 'Illiterate' 'AC5BS' 'ASBH' 'BC5']\n"
          ]
        }
      ]
    },
    {
      "cell_type": "code",
      "metadata": {
        "id": "j3tPbdOqgzoi"
      },
      "source": [
        "df.replace('Below Class 5', 'BC5', inplace=True)"
      ],
      "execution_count": null,
      "outputs": []
    },
    {
      "cell_type": "code",
      "metadata": {
        "id": "llXDmvVliyIK"
      },
      "source": [
        "df.replace('Mud built', 'Mud_Built', inplace=True)\n",
        "df.replace('Brick built', 'Brick_Built', inplace=True)"
      ],
      "execution_count": null,
      "outputs": []
    },
    {
      "cell_type": "code",
      "metadata": {
        "id": "DDb7xofGIFL2"
      },
      "source": [
        "from  sklearn import preprocessing\n",
        "lebel_encoder=preprocessing.LabelEncoder()"
      ],
      "execution_count": null,
      "outputs": []
    },
    {
      "cell_type": "code",
      "metadata": {
        "colab": {
          "base_uri": "https://localhost:8080/"
        },
        "id": "xkaR-ZsHM61q",
        "outputId": "1e1728bf-32da-41c8-a887-bb9632b4ce26"
      },
      "source": [
        "df['HEP']=lebel_encoder.fit_transform(df['HEP'])\n",
        "df['HEP'].unique()"
      ],
      "execution_count": null,
      "outputs": [
        {
          "output_type": "execute_result",
          "data": {
            "text/plain": [
              "array([0, 1])"
            ]
          },
          "metadata": {},
          "execution_count": 30
        }
      ]
    },
    {
      "cell_type": "code",
      "metadata": {
        "colab": {
          "base_uri": "https://localhost:8080/"
        },
        "id": "4W-R_6R7M65Q",
        "outputId": "98924edf-6349-4d6f-9475-ef9f2400ca1f"
      },
      "source": [
        "df['OH']=lebel_encoder.fit_transform(df['OH'])\n",
        "df['OH'].unique()"
      ],
      "execution_count": null,
      "outputs": [
        {
          "output_type": "execute_result",
          "data": {
            "text/plain": [
              "array([1, 0])"
            ]
          },
          "metadata": {},
          "execution_count": 31
        }
      ]
    },
    {
      "cell_type": "code",
      "metadata": {
        "colab": {
          "base_uri": "https://localhost:8080/"
        },
        "id": "zpaLI1CsNHIO",
        "outputId": "eb7ff342-0150-4042-d8fb-dd373cc7382f"
      },
      "source": [
        "df['HT']=lebel_encoder.fit_transform(df['HT'])\n",
        "df['HT'].unique()"
      ],
      "execution_count": null,
      "outputs": [
        {
          "output_type": "execute_result",
          "data": {
            "text/plain": [
              "array([0, 1])"
            ]
          },
          "metadata": {},
          "execution_count": 32
        }
      ]
    },
    {
      "cell_type": "code",
      "metadata": {
        "colab": {
          "base_uri": "https://localhost:8080/"
        },
        "id": "Et0aF6c3NHLV",
        "outputId": "d42c69f1-6554-41cf-fdef-9015cb3457fb"
      },
      "source": [
        "df['EIS']=lebel_encoder.fit_transform(df['EIS'])\n",
        "df['EIS'].unique()"
      ],
      "execution_count": null,
      "outputs": [
        {
          "output_type": "execute_result",
          "data": {
            "text/plain": [
              "array([1, 0])"
            ]
          },
          "metadata": {},
          "execution_count": 33
        }
      ]
    },
    {
      "cell_type": "code",
      "metadata": {
        "colab": {
          "base_uri": "https://localhost:8080/"
        },
        "id": "2lmXw9y4Nu2B",
        "outputId": "634fcda3-b482-4eb6-a0b9-fe833fdd189b"
      },
      "source": [
        "df['SC']=lebel_encoder.fit_transform(df['SC'])\n",
        "df['SC'].unique()"
      ],
      "execution_count": null,
      "outputs": [
        {
          "output_type": "execute_result",
          "data": {
            "text/plain": [
              "array([0, 1])"
            ]
          },
          "metadata": {},
          "execution_count": 34
        }
      ]
    },
    {
      "cell_type": "code",
      "metadata": {
        "colab": {
          "base_uri": "https://localhost:8080/"
        },
        "id": "nQQim2avNu_v",
        "outputId": "f31afa44-ed2b-4583-b1d8-24746a94421f"
      },
      "source": [
        "df['LOAN']=lebel_encoder.fit_transform(df['LOAN'])\n",
        "df['LOAN'].unique()"
      ],
      "execution_count": null,
      "outputs": [
        {
          "output_type": "execute_result",
          "data": {
            "text/plain": [
              "array([0, 1])"
            ]
          },
          "metadata": {},
          "execution_count": 35
        }
      ]
    },
    {
      "cell_type": "code",
      "metadata": {
        "colab": {
          "base_uri": "https://localhost:8080/"
        },
        "id": "WEQVSbygNvEk",
        "outputId": "790f0af9-82f5-491a-a493-b4ed7c7e14b5"
      },
      "source": [
        "df['FDA']=lebel_encoder.fit_transform(df['FDA'])\n",
        "df['FDA'].unique()"
      ],
      "execution_count": null,
      "outputs": [
        {
          "output_type": "execute_result",
          "data": {
            "text/plain": [
              "array([0, 1])"
            ]
          },
          "metadata": {},
          "execution_count": 36
        }
      ]
    },
    {
      "cell_type": "code",
      "metadata": {
        "colab": {
          "base_uri": "https://localhost:8080/"
        },
        "id": "Bcw2CsMPNvLP",
        "outputId": "c45663ec-35a3-41dd-acf1-89094125d609"
      },
      "source": [
        "df['CDA']=lebel_encoder.fit_transform(df['CDA'])\n",
        "df['CDA'].unique()"
      ],
      "execution_count": null,
      "outputs": [
        {
          "output_type": "execute_result",
          "data": {
            "text/plain": [
              "array([0, 1])"
            ]
          },
          "metadata": {},
          "execution_count": 37
        }
      ]
    },
    {
      "cell_type": "code",
      "metadata": {
        "colab": {
          "base_uri": "https://localhost:8080/"
        },
        "id": "pTC2s9YmO6o0",
        "outputId": "cc1fec21-88fe-40d7-9bf7-f1326a6e2da4"
      },
      "source": [
        "df['SFM']=lebel_encoder.fit_transform(df['SFM'])\n",
        "df['SFM'].unique()"
      ],
      "execution_count": null,
      "outputs": [
        {
          "output_type": "execute_result",
          "data": {
            "text/plain": [
              "array([0, 1])"
            ]
          },
          "metadata": {},
          "execution_count": 38
        }
      ]
    },
    {
      "cell_type": "code",
      "metadata": {
        "colab": {
          "base_uri": "https://localhost:8080/"
        },
        "id": "-n59UqNyfaFD",
        "outputId": "fb55d82c-193d-4308-f91c-3d537874b91d"
      },
      "source": [
        "df['FQ']=lebel_encoder.fit_transform(df['FQ'])\n",
        "df['FQ'].unique()"
      ],
      "execution_count": null,
      "outputs": [
        {
          "output_type": "execute_result",
          "data": {
            "text/plain": [
              "array([1, 4, 3, 2, 0])"
            ]
          },
          "metadata": {},
          "execution_count": 39
        }
      ]
    },
    {
      "cell_type": "code",
      "metadata": {
        "colab": {
          "base_uri": "https://localhost:8080/"
        },
        "id": "L8U6fDO1faK4",
        "outputId": "91224b5b-d9a2-43ed-c41c-fd01bbebdc33"
      },
      "source": [
        "df['FWQ']=lebel_encoder.fit_transform(df['FWQ'])\n",
        "df['FWQ'].unique()"
      ],
      "execution_count": null,
      "outputs": [
        {
          "output_type": "execute_result",
          "data": {
            "text/plain": [
              "array([0, 4, 3, 2, 1])"
            ]
          },
          "metadata": {},
          "execution_count": 40
        }
      ]
    },
    {
      "cell_type": "code",
      "metadata": {
        "colab": {
          "base_uri": "https://localhost:8080/"
        },
        "id": "ndNxQyYafaSj",
        "outputId": "91b29c39-852b-4071-88ee-00a6d90b2d2c"
      },
      "source": [
        "df['FMI']=lebel_encoder.fit_transform(df['FMI'])\n",
        "df['FMI'].unique()"
      ],
      "execution_count": null,
      "outputs": [
        {
          "output_type": "execute_result",
          "data": {
            "text/plain": [
              "array([2, 1, 0])"
            ]
          },
          "metadata": {},
          "execution_count": 41
        }
      ]
    },
    {
      "cell_type": "code",
      "metadata": {
        "colab": {
          "base_uri": "https://localhost:8080/"
        },
        "id": "ysuc89Safadz",
        "outputId": "20c0dc4e-78a7-4fd2-880f-157fc9f52952"
      },
      "source": [
        "df['TDBHC']=lebel_encoder.fit_transform(df['TDBHC'])\n",
        "df['TDBHC'].unique()"
      ],
      "execution_count": null,
      "outputs": [
        {
          "output_type": "execute_result",
          "data": {
            "text/plain": [
              "array([0, 1, 2])"
            ]
          },
          "metadata": {},
          "execution_count": 42
        }
      ]
    },
    {
      "cell_type": "code",
      "metadata": {
        "colab": {
          "base_uri": "https://localhost:8080/"
        },
        "id": "T7vakBt5bpkA",
        "outputId": "70c8a678-822b-4b4c-d848-041a091a632c"
      },
      "source": [
        "for col in df:\n",
        "  print(f'{col}: {df[col].unique()}')"
      ],
      "execution_count": null,
      "outputs": [
        {
          "output_type": "stream",
          "name": "stdout",
          "text": [
            "Age: [51 55 57 47 65 63 60 59 48 45 50 54 58 68 67 56 70 46 53 52 49 73 62 80\n",
            " 64 69 66 76 42 75 72 40 38 30 44 61 39 71 41 43]\n",
            "FM: [ 5  4  3  6  8  7  9 10  2 12]\n",
            "NC: [2 3 1 4 6 5 7 8]\n",
            "NS: [1 2]\n",
            "FQ: [1 4 3 2 0]\n",
            "FWQ: [0 4 3 2 1]\n",
            "NEP: [1 3 2 4]\n",
            "FMI: [2 1 0]\n",
            "HEP: [0 1]\n",
            "OH: [1 0]\n",
            "HT: [0 1]\n",
            "EIS: [1 0]\n",
            "AOL: [ 8.    1.5   2.1   3.    1.    0.5   4.    1.3   2.    7.    0.1  10.\n",
            " 12.   20.    6.    2.5   0.15  0.6   0.7  13.   16.    3.5  15.    5.\n",
            "  0.12  9.   22.    0.   30.    0.3  14.   11.    5.5 ]\n",
            "ALC: [ 4.   3.5  3.   2.   2.5  8.   5.   1.   9.   1.5 18.  11.   4.5 12.\n",
            " 10.  30.  15.   7.   6.   0.5  6.5 14.  20.   2.6  3.6  7.6  2.7  1.8\n",
            "  1.7 19.  28.   2.4 13.  16.   3.3  1.1]\n",
            "SC: [0 1]\n",
            "LOAN: [0 1]\n",
            "FDA: [0 1]\n",
            "CDA: [0 1]\n",
            "SFM: [0 1]\n",
            "TDBHC: [0 1 2]\n",
            "CQ: ['AH' 'Illiterate' 'AC5BS' 'ASBH' 'BC5']\n"
          ]
        }
      ]
    },
    {
      "cell_type": "code",
      "metadata": {
        "id": "eVqf_BtFb2z0",
        "colab": {
          "base_uri": "https://localhost:8080/"
        },
        "outputId": "626c1f5d-b3be-476e-a1d8-6bfe5c46cd9b"
      },
      "source": [
        "'''more_category=['FQ','FWQ','FMI','TDBHC']'''"
      ],
      "execution_count": null,
      "outputs": [
        {
          "output_type": "execute_result",
          "data": {
            "application/vnd.google.colaboratory.intrinsic+json": {
              "type": "string"
            },
            "text/plain": [
              "\"more_category=['FQ','FWQ','FMI','TDBHC']\""
            ]
          },
          "metadata": {},
          "execution_count": 44
        }
      ]
    },
    {
      "cell_type": "code",
      "metadata": {
        "id": "_vQgPFQ7b22t",
        "colab": {
          "base_uri": "https://localhost:8080/"
        },
        "outputId": "524c7327-73d5-469b-9787-5919a7c5a342"
      },
      "source": [
        "'''n_df=pd.get_dummies(df, columns=more_category)'''\n"
      ],
      "execution_count": null,
      "outputs": [
        {
          "output_type": "execute_result",
          "data": {
            "application/vnd.google.colaboratory.intrinsic+json": {
              "type": "string"
            },
            "text/plain": [
              "'n_df=pd.get_dummies(df, columns=more_category)'"
            ]
          },
          "metadata": {},
          "execution_count": 45
        }
      ]
    },
    {
      "cell_type": "code",
      "metadata": {
        "colab": {
          "base_uri": "https://localhost:8080/"
        },
        "id": "XKnFR6E-cqaB",
        "outputId": "31e88fcd-5772-40eb-bea7-10c5b875558f"
      },
      "source": [
        "df.dtypes"
      ],
      "execution_count": null,
      "outputs": [
        {
          "output_type": "execute_result",
          "data": {
            "text/plain": [
              "Age        int64\n",
              "FM         int64\n",
              "NC         int64\n",
              "NS         int64\n",
              "FQ         int64\n",
              "FWQ        int64\n",
              "NEP        int64\n",
              "FMI        int64\n",
              "HEP        int64\n",
              "OH         int64\n",
              "HT         int64\n",
              "EIS        int64\n",
              "AOL      float64\n",
              "ALC      float64\n",
              "SC         int64\n",
              "LOAN       int64\n",
              "FDA        int64\n",
              "CDA        int64\n",
              "SFM        int64\n",
              "TDBHC      int64\n",
              "CQ        object\n",
              "dtype: object"
            ]
          },
          "metadata": {},
          "execution_count": 46
        }
      ]
    },
    {
      "cell_type": "code",
      "metadata": {
        "colab": {
          "base_uri": "https://localhost:8080/"
        },
        "id": "1HCfbLcrNoZr",
        "outputId": "03743ac6-8776-46c4-d21b-6ec576be8193"
      },
      "source": [
        "df.head(10)"
      ],
      "execution_count": null,
      "outputs": [
        {
          "output_type": "execute_result",
          "data": {
            "text/html": [
              "<div>\n",
              "<style scoped>\n",
              "    .dataframe tbody tr th:only-of-type {\n",
              "        vertical-align: middle;\n",
              "    }\n",
              "\n",
              "    .dataframe tbody tr th {\n",
              "        vertical-align: top;\n",
              "    }\n",
              "\n",
              "    .dataframe thead th {\n",
              "        text-align: right;\n",
              "    }\n",
              "</style>\n",
              "<table border=\"1\" class=\"dataframe\">\n",
              "  <thead>\n",
              "    <tr style=\"text-align: right;\">\n",
              "      <th></th>\n",
              "      <th>Age</th>\n",
              "      <th>FM</th>\n",
              "      <th>NC</th>\n",
              "      <th>NS</th>\n",
              "      <th>FQ</th>\n",
              "      <th>FWQ</th>\n",
              "      <th>NEP</th>\n",
              "      <th>FMI</th>\n",
              "      <th>HEP</th>\n",
              "      <th>OH</th>\n",
              "      <th>HT</th>\n",
              "      <th>EIS</th>\n",
              "      <th>AOL</th>\n",
              "      <th>ALC</th>\n",
              "      <th>SC</th>\n",
              "      <th>LOAN</th>\n",
              "      <th>FDA</th>\n",
              "      <th>CDA</th>\n",
              "      <th>SFM</th>\n",
              "      <th>TDBHC</th>\n",
              "      <th>CQ</th>\n",
              "    </tr>\n",
              "  </thead>\n",
              "  <tbody>\n",
              "    <tr>\n",
              "      <th>0</th>\n",
              "      <td>51</td>\n",
              "      <td>5</td>\n",
              "      <td>2</td>\n",
              "      <td>1</td>\n",
              "      <td>1</td>\n",
              "      <td>0</td>\n",
              "      <td>1</td>\n",
              "      <td>2</td>\n",
              "      <td>0</td>\n",
              "      <td>1</td>\n",
              "      <td>0</td>\n",
              "      <td>1</td>\n",
              "      <td>8.0</td>\n",
              "      <td>4.0</td>\n",
              "      <td>0</td>\n",
              "      <td>0</td>\n",
              "      <td>0</td>\n",
              "      <td>0</td>\n",
              "      <td>0</td>\n",
              "      <td>0</td>\n",
              "      <td>AH</td>\n",
              "    </tr>\n",
              "    <tr>\n",
              "      <th>1</th>\n",
              "      <td>55</td>\n",
              "      <td>5</td>\n",
              "      <td>3</td>\n",
              "      <td>1</td>\n",
              "      <td>4</td>\n",
              "      <td>4</td>\n",
              "      <td>3</td>\n",
              "      <td>1</td>\n",
              "      <td>0</td>\n",
              "      <td>1</td>\n",
              "      <td>1</td>\n",
              "      <td>0</td>\n",
              "      <td>1.5</td>\n",
              "      <td>3.5</td>\n",
              "      <td>1</td>\n",
              "      <td>1</td>\n",
              "      <td>0</td>\n",
              "      <td>0</td>\n",
              "      <td>0</td>\n",
              "      <td>1</td>\n",
              "      <td>Illiterate</td>\n",
              "    </tr>\n",
              "    <tr>\n",
              "      <th>2</th>\n",
              "      <td>57</td>\n",
              "      <td>4</td>\n",
              "      <td>2</td>\n",
              "      <td>2</td>\n",
              "      <td>4</td>\n",
              "      <td>3</td>\n",
              "      <td>2</td>\n",
              "      <td>1</td>\n",
              "      <td>0</td>\n",
              "      <td>1</td>\n",
              "      <td>1</td>\n",
              "      <td>0</td>\n",
              "      <td>2.1</td>\n",
              "      <td>3.0</td>\n",
              "      <td>1</td>\n",
              "      <td>1</td>\n",
              "      <td>0</td>\n",
              "      <td>0</td>\n",
              "      <td>0</td>\n",
              "      <td>1</td>\n",
              "      <td>Illiterate</td>\n",
              "    </tr>\n",
              "    <tr>\n",
              "      <th>3</th>\n",
              "      <td>47</td>\n",
              "      <td>3</td>\n",
              "      <td>1</td>\n",
              "      <td>1</td>\n",
              "      <td>4</td>\n",
              "      <td>0</td>\n",
              "      <td>2</td>\n",
              "      <td>1</td>\n",
              "      <td>0</td>\n",
              "      <td>1</td>\n",
              "      <td>1</td>\n",
              "      <td>0</td>\n",
              "      <td>1.5</td>\n",
              "      <td>2.0</td>\n",
              "      <td>1</td>\n",
              "      <td>1</td>\n",
              "      <td>0</td>\n",
              "      <td>0</td>\n",
              "      <td>0</td>\n",
              "      <td>1</td>\n",
              "      <td>AC5BS</td>\n",
              "    </tr>\n",
              "    <tr>\n",
              "      <th>4</th>\n",
              "      <td>65</td>\n",
              "      <td>5</td>\n",
              "      <td>4</td>\n",
              "      <td>1</td>\n",
              "      <td>4</td>\n",
              "      <td>4</td>\n",
              "      <td>1</td>\n",
              "      <td>1</td>\n",
              "      <td>0</td>\n",
              "      <td>1</td>\n",
              "      <td>1</td>\n",
              "      <td>0</td>\n",
              "      <td>3.0</td>\n",
              "      <td>2.0</td>\n",
              "      <td>1</td>\n",
              "      <td>0</td>\n",
              "      <td>0</td>\n",
              "      <td>0</td>\n",
              "      <td>0</td>\n",
              "      <td>1</td>\n",
              "      <td>Illiterate</td>\n",
              "    </tr>\n",
              "    <tr>\n",
              "      <th>5</th>\n",
              "      <td>63</td>\n",
              "      <td>6</td>\n",
              "      <td>4</td>\n",
              "      <td>1</td>\n",
              "      <td>4</td>\n",
              "      <td>4</td>\n",
              "      <td>3</td>\n",
              "      <td>1</td>\n",
              "      <td>0</td>\n",
              "      <td>1</td>\n",
              "      <td>1</td>\n",
              "      <td>0</td>\n",
              "      <td>1.0</td>\n",
              "      <td>2.0</td>\n",
              "      <td>1</td>\n",
              "      <td>0</td>\n",
              "      <td>0</td>\n",
              "      <td>0</td>\n",
              "      <td>0</td>\n",
              "      <td>0</td>\n",
              "      <td>Illiterate</td>\n",
              "    </tr>\n",
              "    <tr>\n",
              "      <th>6</th>\n",
              "      <td>60</td>\n",
              "      <td>8</td>\n",
              "      <td>3</td>\n",
              "      <td>1</td>\n",
              "      <td>4</td>\n",
              "      <td>4</td>\n",
              "      <td>2</td>\n",
              "      <td>1</td>\n",
              "      <td>0</td>\n",
              "      <td>1</td>\n",
              "      <td>1</td>\n",
              "      <td>0</td>\n",
              "      <td>0.5</td>\n",
              "      <td>2.0</td>\n",
              "      <td>1</td>\n",
              "      <td>1</td>\n",
              "      <td>0</td>\n",
              "      <td>0</td>\n",
              "      <td>0</td>\n",
              "      <td>1</td>\n",
              "      <td>Illiterate</td>\n",
              "    </tr>\n",
              "    <tr>\n",
              "      <th>7</th>\n",
              "      <td>59</td>\n",
              "      <td>4</td>\n",
              "      <td>2</td>\n",
              "      <td>1</td>\n",
              "      <td>3</td>\n",
              "      <td>3</td>\n",
              "      <td>2</td>\n",
              "      <td>1</td>\n",
              "      <td>0</td>\n",
              "      <td>1</td>\n",
              "      <td>1</td>\n",
              "      <td>0</td>\n",
              "      <td>3.0</td>\n",
              "      <td>2.0</td>\n",
              "      <td>0</td>\n",
              "      <td>0</td>\n",
              "      <td>0</td>\n",
              "      <td>0</td>\n",
              "      <td>0</td>\n",
              "      <td>1</td>\n",
              "      <td>AC5BS</td>\n",
              "    </tr>\n",
              "    <tr>\n",
              "      <th>8</th>\n",
              "      <td>48</td>\n",
              "      <td>6</td>\n",
              "      <td>2</td>\n",
              "      <td>1</td>\n",
              "      <td>3</td>\n",
              "      <td>0</td>\n",
              "      <td>1</td>\n",
              "      <td>2</td>\n",
              "      <td>0</td>\n",
              "      <td>1</td>\n",
              "      <td>0</td>\n",
              "      <td>1</td>\n",
              "      <td>4.0</td>\n",
              "      <td>3.0</td>\n",
              "      <td>0</td>\n",
              "      <td>1</td>\n",
              "      <td>0</td>\n",
              "      <td>0</td>\n",
              "      <td>0</td>\n",
              "      <td>1</td>\n",
              "      <td>ASBH</td>\n",
              "    </tr>\n",
              "    <tr>\n",
              "      <th>9</th>\n",
              "      <td>45</td>\n",
              "      <td>4</td>\n",
              "      <td>2</td>\n",
              "      <td>1</td>\n",
              "      <td>3</td>\n",
              "      <td>3</td>\n",
              "      <td>1</td>\n",
              "      <td>1</td>\n",
              "      <td>0</td>\n",
              "      <td>1</td>\n",
              "      <td>1</td>\n",
              "      <td>1</td>\n",
              "      <td>3.0</td>\n",
              "      <td>4.0</td>\n",
              "      <td>1</td>\n",
              "      <td>1</td>\n",
              "      <td>0</td>\n",
              "      <td>0</td>\n",
              "      <td>0</td>\n",
              "      <td>1</td>\n",
              "      <td>AC5BS</td>\n",
              "    </tr>\n",
              "  </tbody>\n",
              "</table>\n",
              "</div>"
            ],
            "text/plain": [
              "   Age  FM  NC  NS  FQ  FWQ  NEP  ...  SC  LOAN  FDA  CDA  SFM  TDBHC          CQ\n",
              "0   51   5   2   1   1    0    1  ...   0     0    0    0    0      0          AH\n",
              "1   55   5   3   1   4    4    3  ...   1     1    0    0    0      1  Illiterate\n",
              "2   57   4   2   2   4    3    2  ...   1     1    0    0    0      1  Illiterate\n",
              "3   47   3   1   1   4    0    2  ...   1     1    0    0    0      1       AC5BS\n",
              "4   65   5   4   1   4    4    1  ...   1     0    0    0    0      1  Illiterate\n",
              "5   63   6   4   1   4    4    3  ...   1     0    0    0    0      0  Illiterate\n",
              "6   60   8   3   1   4    4    2  ...   1     1    0    0    0      1  Illiterate\n",
              "7   59   4   2   1   3    3    2  ...   0     0    0    0    0      1       AC5BS\n",
              "8   48   6   2   1   3    0    1  ...   0     1    0    0    0      1        ASBH\n",
              "9   45   4   2   1   3    3    1  ...   1     1    0    0    0      1       AC5BS\n",
              "\n",
              "[10 rows x 21 columns]"
            ]
          },
          "metadata": {},
          "execution_count": 47
        }
      ]
    },
    {
      "cell_type": "code",
      "metadata": {
        "colab": {
          "base_uri": "https://localhost:8080/"
        },
        "id": "_bwbn1PiNoja",
        "outputId": "02bff3c4-b9d9-4a05-e9b9-28cdd99b3ad2"
      },
      "source": [
        "df.dtypes"
      ],
      "execution_count": null,
      "outputs": [
        {
          "output_type": "execute_result",
          "data": {
            "text/plain": [
              "Age        int64\n",
              "FM         int64\n",
              "NC         int64\n",
              "NS         int64\n",
              "FQ         int64\n",
              "FWQ        int64\n",
              "NEP        int64\n",
              "FMI        int64\n",
              "HEP        int64\n",
              "OH         int64\n",
              "HT         int64\n",
              "EIS        int64\n",
              "AOL      float64\n",
              "ALC      float64\n",
              "SC         int64\n",
              "LOAN       int64\n",
              "FDA        int64\n",
              "CDA        int64\n",
              "SFM        int64\n",
              "TDBHC      int64\n",
              "CQ        object\n",
              "dtype: object"
            ]
          },
          "metadata": {},
          "execution_count": 48
        }
      ]
    },
    {
      "cell_type": "markdown",
      "metadata": {
        "id": "b_YIjS5bdcaE"
      },
      "source": [
        "# **Handling missing values**"
      ]
    },
    {
      "cell_type": "code",
      "metadata": {
        "colab": {
          "base_uri": "https://localhost:8080/"
        },
        "id": "mgwufbGGNosr",
        "outputId": "43c7044b-b6b2-441f-b581-bb9085fbd9c3"
      },
      "source": [
        "df.isnull().sum()\n",
        "#df[df['TotalCharges'].isnull()]\n",
        "#df.drop([488],axis=0,inplace=True)"
      ],
      "execution_count": null,
      "outputs": [
        {
          "output_type": "execute_result",
          "data": {
            "text/plain": [
              "Age      0\n",
              "FM       0\n",
              "NC       0\n",
              "NS       0\n",
              "FQ       0\n",
              "FWQ      0\n",
              "NEP      0\n",
              "FMI      0\n",
              "HEP      0\n",
              "OH       0\n",
              "HT       0\n",
              "EIS      0\n",
              "AOL      0\n",
              "ALC      0\n",
              "SC       0\n",
              "LOAN     0\n",
              "FDA      0\n",
              "CDA      0\n",
              "SFM      0\n",
              "TDBHC    0\n",
              "CQ       0\n",
              "dtype: int64"
            ]
          },
          "metadata": {},
          "execution_count": 49
        }
      ]
    },
    {
      "cell_type": "markdown",
      "metadata": {
        "id": "mOg-iV4Hd1Ft"
      },
      "source": [
        "# **Feature scaling**"
      ]
    },
    {
      "cell_type": "code",
      "metadata": {
        "colab": {
          "base_uri": "https://localhost:8080/"
        },
        "id": "hd111Htee1ZP",
        "outputId": "df8f4ad4-fd53-4360-e7a7-a9788576405b"
      },
      "source": [
        "for col in df:\n",
        "  print(f'{col}: {df[col].unique()}')"
      ],
      "execution_count": null,
      "outputs": [
        {
          "output_type": "stream",
          "name": "stdout",
          "text": [
            "Age: [51 55 57 47 65 63 60 59 48 45 50 54 58 68 67 56 70 46 53 52 49 73 62 80\n",
            " 64 69 66 76 42 75 72 40 38 30 44 61 39 71 41 43]\n",
            "FM: [ 5  4  3  6  8  7  9 10  2 12]\n",
            "NC: [2 3 1 4 6 5 7 8]\n",
            "NS: [1 2]\n",
            "FQ: [1 4 3 2 0]\n",
            "FWQ: [0 4 3 2 1]\n",
            "NEP: [1 3 2 4]\n",
            "FMI: [2 1 0]\n",
            "HEP: [0 1]\n",
            "OH: [1 0]\n",
            "HT: [0 1]\n",
            "EIS: [1 0]\n",
            "AOL: [ 8.    1.5   2.1   3.    1.    0.5   4.    1.3   2.    7.    0.1  10.\n",
            " 12.   20.    6.    2.5   0.15  0.6   0.7  13.   16.    3.5  15.    5.\n",
            "  0.12  9.   22.    0.   30.    0.3  14.   11.    5.5 ]\n",
            "ALC: [ 4.   3.5  3.   2.   2.5  8.   5.   1.   9.   1.5 18.  11.   4.5 12.\n",
            " 10.  30.  15.   7.   6.   0.5  6.5 14.  20.   2.6  3.6  7.6  2.7  1.8\n",
            "  1.7 19.  28.   2.4 13.  16.   3.3  1.1]\n",
            "SC: [0 1]\n",
            "LOAN: [0 1]\n",
            "FDA: [0 1]\n",
            "CDA: [0 1]\n",
            "SFM: [0 1]\n",
            "TDBHC: [0 1 2]\n",
            "CQ: ['AH' 'Illiterate' 'AC5BS' 'ASBH' 'BC5']\n"
          ]
        }
      ]
    },
    {
      "cell_type": "code",
      "metadata": {
        "id": "y-d8yqr1e1cQ"
      },
      "source": [
        "col_scale=['Age','FM','NS','FQ','FWQ','NC','NEP','FMI','AOL','ALC','TDBHC']"
      ],
      "execution_count": null,
      "outputs": []
    },
    {
      "cell_type": "code",
      "metadata": {
        "id": "ifWOrLQxe1fN"
      },
      "source": [
        "from sklearn.preprocessing  import MinMaxScaler\n",
        "sc=MinMaxScaler()"
      ],
      "execution_count": null,
      "outputs": []
    },
    {
      "cell_type": "code",
      "metadata": {
        "id": "7fCDKD5gfYpJ"
      },
      "source": [
        "df[col_scale]=sc.fit_transform(df[col_scale])"
      ],
      "execution_count": null,
      "outputs": []
    },
    {
      "cell_type": "code",
      "metadata": {
        "colab": {
          "base_uri": "https://localhost:8080/"
        },
        "id": "pldfQrSHfqwn",
        "outputId": "8945b4c4-58e5-4195-c088-5ca04e8af0a0"
      },
      "source": [
        "for col in df:\n",
        "  print(f'{col}: {df[col].unique()}')"
      ],
      "execution_count": null,
      "outputs": [
        {
          "output_type": "stream",
          "name": "stdout",
          "text": [
            "Age: [0.42 0.5  0.54 0.34 0.7  0.66 0.6  0.58 0.36 0.3  0.4  0.48 0.56 0.76\n",
            " 0.74 0.52 0.8  0.32 0.46 0.44 0.38 0.86 0.64 1.   0.68 0.78 0.72 0.92\n",
            " 0.24 0.9  0.84 0.2  0.16 0.   0.28 0.62 0.18 0.82 0.22 0.26]\n",
            "FM: [0.3 0.2 0.1 0.4 0.6 0.5 0.7 0.8 0.  1. ]\n",
            "NC: [0.14285714 0.28571429 0.         0.42857143 0.71428571 0.57142857\n",
            " 0.85714286 1.        ]\n",
            "NS: [0. 1.]\n",
            "FQ: [0.25 1.   0.75 0.5  0.  ]\n",
            "FWQ: [0.   1.   0.75 0.5  0.25]\n",
            "NEP: [0.         0.66666667 0.33333333 1.        ]\n",
            "FMI: [1.  0.5 0. ]\n",
            "HEP: [0 1]\n",
            "OH: [1 0]\n",
            "HT: [0 1]\n",
            "EIS: [1 0]\n",
            "AOL: [0.26666667 0.05       0.07       0.1        0.03333333 0.01666667\n",
            " 0.13333333 0.04333333 0.06666667 0.23333333 0.00333333 0.33333333\n",
            " 0.4        0.66666667 0.2        0.08333333 0.005      0.02\n",
            " 0.02333333 0.43333333 0.53333333 0.11666667 0.5        0.16666667\n",
            " 0.004      0.3        0.73333333 0.         1.         0.01\n",
            " 0.46666667 0.36666667 0.18333333]\n",
            "ALC: [0.11864407 0.10169492 0.08474576 0.05084746 0.06779661 0.25423729\n",
            " 0.15254237 0.01694915 0.28813559 0.03389831 0.59322034 0.3559322\n",
            " 0.13559322 0.38983051 0.3220339  1.         0.49152542 0.22033898\n",
            " 0.18644068 0.         0.20338983 0.45762712 0.66101695 0.07118644\n",
            " 0.10508475 0.24067797 0.07457627 0.0440678  0.04067797 0.62711864\n",
            " 0.93220339 0.06440678 0.42372881 0.52542373 0.09491525 0.02033898]\n",
            "SC: [0 1]\n",
            "LOAN: [0 1]\n",
            "FDA: [0 1]\n",
            "CDA: [0 1]\n",
            "SFM: [0 1]\n",
            "TDBHC: [0.  0.5 1. ]\n",
            "CQ: ['AH' 'Illiterate' 'AC5BS' 'ASBH' 'BC5']\n"
          ]
        }
      ]
    },
    {
      "cell_type": "code",
      "metadata": {
        "colab": {
          "base_uri": "https://localhost:8080/"
        },
        "id": "5i5EwSxsf1yB",
        "outputId": "471add1f-1444-4cd3-af7e-df14ab8bc15f"
      },
      "source": [
        "df.head()"
      ],
      "execution_count": null,
      "outputs": [
        {
          "output_type": "execute_result",
          "data": {
            "text/html": [
              "<div>\n",
              "<style scoped>\n",
              "    .dataframe tbody tr th:only-of-type {\n",
              "        vertical-align: middle;\n",
              "    }\n",
              "\n",
              "    .dataframe tbody tr th {\n",
              "        vertical-align: top;\n",
              "    }\n",
              "\n",
              "    .dataframe thead th {\n",
              "        text-align: right;\n",
              "    }\n",
              "</style>\n",
              "<table border=\"1\" class=\"dataframe\">\n",
              "  <thead>\n",
              "    <tr style=\"text-align: right;\">\n",
              "      <th></th>\n",
              "      <th>Age</th>\n",
              "      <th>FM</th>\n",
              "      <th>NC</th>\n",
              "      <th>NS</th>\n",
              "      <th>FQ</th>\n",
              "      <th>FWQ</th>\n",
              "      <th>NEP</th>\n",
              "      <th>FMI</th>\n",
              "      <th>HEP</th>\n",
              "      <th>OH</th>\n",
              "      <th>HT</th>\n",
              "      <th>EIS</th>\n",
              "      <th>AOL</th>\n",
              "      <th>ALC</th>\n",
              "      <th>SC</th>\n",
              "      <th>LOAN</th>\n",
              "      <th>FDA</th>\n",
              "      <th>CDA</th>\n",
              "      <th>SFM</th>\n",
              "      <th>TDBHC</th>\n",
              "      <th>CQ</th>\n",
              "    </tr>\n",
              "  </thead>\n",
              "  <tbody>\n",
              "    <tr>\n",
              "      <th>0</th>\n",
              "      <td>0.42</td>\n",
              "      <td>0.3</td>\n",
              "      <td>0.142857</td>\n",
              "      <td>0.0</td>\n",
              "      <td>0.25</td>\n",
              "      <td>0.00</td>\n",
              "      <td>0.000000</td>\n",
              "      <td>1.0</td>\n",
              "      <td>0</td>\n",
              "      <td>1</td>\n",
              "      <td>0</td>\n",
              "      <td>1</td>\n",
              "      <td>0.266667</td>\n",
              "      <td>0.118644</td>\n",
              "      <td>0</td>\n",
              "      <td>0</td>\n",
              "      <td>0</td>\n",
              "      <td>0</td>\n",
              "      <td>0</td>\n",
              "      <td>0.0</td>\n",
              "      <td>AH</td>\n",
              "    </tr>\n",
              "    <tr>\n",
              "      <th>1</th>\n",
              "      <td>0.50</td>\n",
              "      <td>0.3</td>\n",
              "      <td>0.285714</td>\n",
              "      <td>0.0</td>\n",
              "      <td>1.00</td>\n",
              "      <td>1.00</td>\n",
              "      <td>0.666667</td>\n",
              "      <td>0.5</td>\n",
              "      <td>0</td>\n",
              "      <td>1</td>\n",
              "      <td>1</td>\n",
              "      <td>0</td>\n",
              "      <td>0.050000</td>\n",
              "      <td>0.101695</td>\n",
              "      <td>1</td>\n",
              "      <td>1</td>\n",
              "      <td>0</td>\n",
              "      <td>0</td>\n",
              "      <td>0</td>\n",
              "      <td>0.5</td>\n",
              "      <td>Illiterate</td>\n",
              "    </tr>\n",
              "    <tr>\n",
              "      <th>2</th>\n",
              "      <td>0.54</td>\n",
              "      <td>0.2</td>\n",
              "      <td>0.142857</td>\n",
              "      <td>1.0</td>\n",
              "      <td>1.00</td>\n",
              "      <td>0.75</td>\n",
              "      <td>0.333333</td>\n",
              "      <td>0.5</td>\n",
              "      <td>0</td>\n",
              "      <td>1</td>\n",
              "      <td>1</td>\n",
              "      <td>0</td>\n",
              "      <td>0.070000</td>\n",
              "      <td>0.084746</td>\n",
              "      <td>1</td>\n",
              "      <td>1</td>\n",
              "      <td>0</td>\n",
              "      <td>0</td>\n",
              "      <td>0</td>\n",
              "      <td>0.5</td>\n",
              "      <td>Illiterate</td>\n",
              "    </tr>\n",
              "    <tr>\n",
              "      <th>3</th>\n",
              "      <td>0.34</td>\n",
              "      <td>0.1</td>\n",
              "      <td>0.000000</td>\n",
              "      <td>0.0</td>\n",
              "      <td>1.00</td>\n",
              "      <td>0.00</td>\n",
              "      <td>0.333333</td>\n",
              "      <td>0.5</td>\n",
              "      <td>0</td>\n",
              "      <td>1</td>\n",
              "      <td>1</td>\n",
              "      <td>0</td>\n",
              "      <td>0.050000</td>\n",
              "      <td>0.050847</td>\n",
              "      <td>1</td>\n",
              "      <td>1</td>\n",
              "      <td>0</td>\n",
              "      <td>0</td>\n",
              "      <td>0</td>\n",
              "      <td>0.5</td>\n",
              "      <td>AC5BS</td>\n",
              "    </tr>\n",
              "    <tr>\n",
              "      <th>4</th>\n",
              "      <td>0.70</td>\n",
              "      <td>0.3</td>\n",
              "      <td>0.428571</td>\n",
              "      <td>0.0</td>\n",
              "      <td>1.00</td>\n",
              "      <td>1.00</td>\n",
              "      <td>0.000000</td>\n",
              "      <td>0.5</td>\n",
              "      <td>0</td>\n",
              "      <td>1</td>\n",
              "      <td>1</td>\n",
              "      <td>0</td>\n",
              "      <td>0.100000</td>\n",
              "      <td>0.050847</td>\n",
              "      <td>1</td>\n",
              "      <td>0</td>\n",
              "      <td>0</td>\n",
              "      <td>0</td>\n",
              "      <td>0</td>\n",
              "      <td>0.5</td>\n",
              "      <td>Illiterate</td>\n",
              "    </tr>\n",
              "  </tbody>\n",
              "</table>\n",
              "</div>"
            ],
            "text/plain": [
              "    Age   FM        NC   NS    FQ   FWQ  ...  LOAN  FDA  CDA  SFM  TDBHC          CQ\n",
              "0  0.42  0.3  0.142857  0.0  0.25  0.00  ...     0    0    0    0    0.0          AH\n",
              "1  0.50  0.3  0.285714  0.0  1.00  1.00  ...     1    0    0    0    0.5  Illiterate\n",
              "2  0.54  0.2  0.142857  1.0  1.00  0.75  ...     1    0    0    0    0.5  Illiterate\n",
              "3  0.34  0.1  0.000000  0.0  1.00  0.00  ...     1    0    0    0    0.5       AC5BS\n",
              "4  0.70  0.3  0.428571  0.0  1.00  1.00  ...     0    0    0    0    0.5  Illiterate\n",
              "\n",
              "[5 rows x 21 columns]"
            ]
          },
          "metadata": {},
          "execution_count": 55
        }
      ]
    },
    {
      "cell_type": "code",
      "metadata": {
        "id": "h-Y0jr7cmBIu"
      },
      "source": [
        "c_df=df"
      ],
      "execution_count": null,
      "outputs": []
    },
    {
      "cell_type": "markdown",
      "metadata": {
        "id": "sEBuNAkJnN7f"
      },
      "source": [
        "# **Feature Selection using CHi2**\n"
      ]
    },
    {
      "cell_type": "code",
      "metadata": {
        "id": "Yeula9mGnSAA"
      },
      "source": [
        "x=df.drop('CQ', axis='columns')"
      ],
      "execution_count": null,
      "outputs": []
    },
    {
      "cell_type": "code",
      "metadata": {
        "id": "1hbk8xRTnSFW"
      },
      "source": [
        "y=df['CQ']"
      ],
      "execution_count": null,
      "outputs": []
    },
    {
      "cell_type": "code",
      "metadata": {
        "colab": {
          "base_uri": "https://localhost:8080/"
        },
        "id": "PUYfg7WTnSI4",
        "outputId": "1e50e6a3-5ea6-4da9-8ffe-d2ae58cd898a"
      },
      "source": [
        "len(df.columns)"
      ],
      "execution_count": null,
      "outputs": [
        {
          "output_type": "execute_result",
          "data": {
            "text/plain": [
              "21"
            ]
          },
          "metadata": {},
          "execution_count": 59
        }
      ]
    },
    {
      "cell_type": "code",
      "metadata": {
        "colab": {
          "base_uri": "https://localhost:8080/"
        },
        "id": "zHRv3RkOnxpn",
        "outputId": "71bb24c5-f429-45e3-d197-e84830d527fd"
      },
      "source": [
        "from sklearn.feature_selection import SelectKBest\n",
        "from sklearn.feature_selection import chi2\n",
        "FIT_FEATURES=SelectKBest(score_func=chi2)\n",
        "\n",
        "FIT_FEATURES.fit(x,y)\n",
        "srore_col=pd.DataFrame(FIT_FEATURES.scores_,columns=['score value'])\n",
        "nam_col=pd.DataFrame(x.columns)\n",
        "top_features=pd.concat([nam_col,srore_col],axis=1)\n",
        "top_features.columns=['Top features','Score']\n",
        "top_features\n",
        "top_features.nlargest(21,'Score')"
      ],
      "execution_count": null,
      "outputs": [
        {
          "output_type": "execute_result",
          "data": {
            "text/html": [
              "<div>\n",
              "<style scoped>\n",
              "    .dataframe tbody tr th:only-of-type {\n",
              "        vertical-align: middle;\n",
              "    }\n",
              "\n",
              "    .dataframe tbody tr th {\n",
              "        vertical-align: top;\n",
              "    }\n",
              "\n",
              "    .dataframe thead th {\n",
              "        text-align: right;\n",
              "    }\n",
              "</style>\n",
              "<table border=\"1\" class=\"dataframe\">\n",
              "  <thead>\n",
              "    <tr style=\"text-align: right;\">\n",
              "      <th></th>\n",
              "      <th>Top features</th>\n",
              "      <th>Score</th>\n",
              "    </tr>\n",
              "  </thead>\n",
              "  <tbody>\n",
              "    <tr>\n",
              "      <th>8</th>\n",
              "      <td>HEP</td>\n",
              "      <td>232.839693</td>\n",
              "    </tr>\n",
              "    <tr>\n",
              "      <th>10</th>\n",
              "      <td>HT</td>\n",
              "      <td>76.651898</td>\n",
              "    </tr>\n",
              "    <tr>\n",
              "      <th>14</th>\n",
              "      <td>SC</td>\n",
              "      <td>39.275916</td>\n",
              "    </tr>\n",
              "    <tr>\n",
              "      <th>12</th>\n",
              "      <td>AOL</td>\n",
              "      <td>38.629991</td>\n",
              "    </tr>\n",
              "    <tr>\n",
              "      <th>4</th>\n",
              "      <td>FQ</td>\n",
              "      <td>37.950048</td>\n",
              "    </tr>\n",
              "    <tr>\n",
              "      <th>13</th>\n",
              "      <td>ALC</td>\n",
              "      <td>27.507991</td>\n",
              "    </tr>\n",
              "    <tr>\n",
              "      <th>15</th>\n",
              "      <td>LOAN</td>\n",
              "      <td>24.823032</td>\n",
              "    </tr>\n",
              "    <tr>\n",
              "      <th>5</th>\n",
              "      <td>FWQ</td>\n",
              "      <td>21.923386</td>\n",
              "    </tr>\n",
              "    <tr>\n",
              "      <th>11</th>\n",
              "      <td>EIS</td>\n",
              "      <td>19.553995</td>\n",
              "    </tr>\n",
              "    <tr>\n",
              "      <th>17</th>\n",
              "      <td>CDA</td>\n",
              "      <td>13.368949</td>\n",
              "    </tr>\n",
              "    <tr>\n",
              "      <th>16</th>\n",
              "      <td>FDA</td>\n",
              "      <td>12.374883</td>\n",
              "    </tr>\n",
              "    <tr>\n",
              "      <th>7</th>\n",
              "      <td>FMI</td>\n",
              "      <td>8.717475</td>\n",
              "    </tr>\n",
              "    <tr>\n",
              "      <th>18</th>\n",
              "      <td>SFM</td>\n",
              "      <td>2.648445</td>\n",
              "    </tr>\n",
              "    <tr>\n",
              "      <th>3</th>\n",
              "      <td>NS</td>\n",
              "      <td>1.923617</td>\n",
              "    </tr>\n",
              "    <tr>\n",
              "      <th>0</th>\n",
              "      <td>Age</td>\n",
              "      <td>1.661077</td>\n",
              "    </tr>\n",
              "    <tr>\n",
              "      <th>19</th>\n",
              "      <td>TDBHC</td>\n",
              "      <td>1.328238</td>\n",
              "    </tr>\n",
              "    <tr>\n",
              "      <th>6</th>\n",
              "      <td>NEP</td>\n",
              "      <td>0.696036</td>\n",
              "    </tr>\n",
              "    <tr>\n",
              "      <th>2</th>\n",
              "      <td>NC</td>\n",
              "      <td>0.547295</td>\n",
              "    </tr>\n",
              "    <tr>\n",
              "      <th>1</th>\n",
              "      <td>FM</td>\n",
              "      <td>0.237990</td>\n",
              "    </tr>\n",
              "    <tr>\n",
              "      <th>9</th>\n",
              "      <td>OH</td>\n",
              "      <td>0.078808</td>\n",
              "    </tr>\n",
              "  </tbody>\n",
              "</table>\n",
              "</div>"
            ],
            "text/plain": [
              "   Top features       Score\n",
              "8           HEP  232.839693\n",
              "10           HT   76.651898\n",
              "14           SC   39.275916\n",
              "12          AOL   38.629991\n",
              "4            FQ   37.950048\n",
              "13          ALC   27.507991\n",
              "15         LOAN   24.823032\n",
              "5           FWQ   21.923386\n",
              "11          EIS   19.553995\n",
              "17          CDA   13.368949\n",
              "16          FDA   12.374883\n",
              "7           FMI    8.717475\n",
              "18          SFM    2.648445\n",
              "3            NS    1.923617\n",
              "0           Age    1.661077\n",
              "19        TDBHC    1.328238\n",
              "6           NEP    0.696036\n",
              "2            NC    0.547295\n",
              "1            FM    0.237990\n",
              "9            OH    0.078808"
            ]
          },
          "metadata": {},
          "execution_count": 60
        }
      ]
    },
    {
      "cell_type": "markdown",
      "metadata": {
        "id": "JofVFEhAojev"
      },
      "source": [
        "# **Select Independent and Dependent features**"
      ]
    },
    {
      "cell_type": "code",
      "metadata": {
        "colab": {
          "base_uri": "https://localhost:8080/",
          "height": 206
        },
        "id": "UGHfj9qApJyx",
        "outputId": "bf252c50-6017-4ddb-da80-0806c829c167"
      },
      "source": [
        "df.head()"
      ],
      "execution_count": null,
      "outputs": [
        {
          "output_type": "execute_result",
          "data": {
            "text/html": [
              "<div>\n",
              "<style scoped>\n",
              "    .dataframe tbody tr th:only-of-type {\n",
              "        vertical-align: middle;\n",
              "    }\n",
              "\n",
              "    .dataframe tbody tr th {\n",
              "        vertical-align: top;\n",
              "    }\n",
              "\n",
              "    .dataframe thead th {\n",
              "        text-align: right;\n",
              "    }\n",
              "</style>\n",
              "<table border=\"1\" class=\"dataframe\">\n",
              "  <thead>\n",
              "    <tr style=\"text-align: right;\">\n",
              "      <th></th>\n",
              "      <th>Age</th>\n",
              "      <th>FM</th>\n",
              "      <th>NC</th>\n",
              "      <th>NS</th>\n",
              "      <th>FQ</th>\n",
              "      <th>FWQ</th>\n",
              "      <th>NEP</th>\n",
              "      <th>FMI</th>\n",
              "      <th>HEP</th>\n",
              "      <th>OH</th>\n",
              "      <th>HT</th>\n",
              "      <th>EIS</th>\n",
              "      <th>AOL</th>\n",
              "      <th>ALC</th>\n",
              "      <th>SC</th>\n",
              "      <th>LOAN</th>\n",
              "      <th>FDA</th>\n",
              "      <th>CDA</th>\n",
              "      <th>SFM</th>\n",
              "      <th>TDBHC</th>\n",
              "      <th>CQ</th>\n",
              "    </tr>\n",
              "  </thead>\n",
              "  <tbody>\n",
              "    <tr>\n",
              "      <th>0</th>\n",
              "      <td>0.42</td>\n",
              "      <td>0.3</td>\n",
              "      <td>0.142857</td>\n",
              "      <td>0.0</td>\n",
              "      <td>0.25</td>\n",
              "      <td>0.00</td>\n",
              "      <td>0.000000</td>\n",
              "      <td>1.0</td>\n",
              "      <td>0</td>\n",
              "      <td>1</td>\n",
              "      <td>0</td>\n",
              "      <td>1</td>\n",
              "      <td>0.266667</td>\n",
              "      <td>0.118644</td>\n",
              "      <td>0</td>\n",
              "      <td>0</td>\n",
              "      <td>0</td>\n",
              "      <td>0</td>\n",
              "      <td>0</td>\n",
              "      <td>0.0</td>\n",
              "      <td>AH</td>\n",
              "    </tr>\n",
              "    <tr>\n",
              "      <th>1</th>\n",
              "      <td>0.50</td>\n",
              "      <td>0.3</td>\n",
              "      <td>0.285714</td>\n",
              "      <td>0.0</td>\n",
              "      <td>1.00</td>\n",
              "      <td>1.00</td>\n",
              "      <td>0.666667</td>\n",
              "      <td>0.5</td>\n",
              "      <td>0</td>\n",
              "      <td>1</td>\n",
              "      <td>1</td>\n",
              "      <td>0</td>\n",
              "      <td>0.050000</td>\n",
              "      <td>0.101695</td>\n",
              "      <td>1</td>\n",
              "      <td>1</td>\n",
              "      <td>0</td>\n",
              "      <td>0</td>\n",
              "      <td>0</td>\n",
              "      <td>0.5</td>\n",
              "      <td>Illiterate</td>\n",
              "    </tr>\n",
              "    <tr>\n",
              "      <th>2</th>\n",
              "      <td>0.54</td>\n",
              "      <td>0.2</td>\n",
              "      <td>0.142857</td>\n",
              "      <td>1.0</td>\n",
              "      <td>1.00</td>\n",
              "      <td>0.75</td>\n",
              "      <td>0.333333</td>\n",
              "      <td>0.5</td>\n",
              "      <td>0</td>\n",
              "      <td>1</td>\n",
              "      <td>1</td>\n",
              "      <td>0</td>\n",
              "      <td>0.070000</td>\n",
              "      <td>0.084746</td>\n",
              "      <td>1</td>\n",
              "      <td>1</td>\n",
              "      <td>0</td>\n",
              "      <td>0</td>\n",
              "      <td>0</td>\n",
              "      <td>0.5</td>\n",
              "      <td>Illiterate</td>\n",
              "    </tr>\n",
              "    <tr>\n",
              "      <th>3</th>\n",
              "      <td>0.34</td>\n",
              "      <td>0.1</td>\n",
              "      <td>0.000000</td>\n",
              "      <td>0.0</td>\n",
              "      <td>1.00</td>\n",
              "      <td>0.00</td>\n",
              "      <td>0.333333</td>\n",
              "      <td>0.5</td>\n",
              "      <td>0</td>\n",
              "      <td>1</td>\n",
              "      <td>1</td>\n",
              "      <td>0</td>\n",
              "      <td>0.050000</td>\n",
              "      <td>0.050847</td>\n",
              "      <td>1</td>\n",
              "      <td>1</td>\n",
              "      <td>0</td>\n",
              "      <td>0</td>\n",
              "      <td>0</td>\n",
              "      <td>0.5</td>\n",
              "      <td>AC5BS</td>\n",
              "    </tr>\n",
              "    <tr>\n",
              "      <th>4</th>\n",
              "      <td>0.70</td>\n",
              "      <td>0.3</td>\n",
              "      <td>0.428571</td>\n",
              "      <td>0.0</td>\n",
              "      <td>1.00</td>\n",
              "      <td>1.00</td>\n",
              "      <td>0.000000</td>\n",
              "      <td>0.5</td>\n",
              "      <td>0</td>\n",
              "      <td>1</td>\n",
              "      <td>1</td>\n",
              "      <td>0</td>\n",
              "      <td>0.100000</td>\n",
              "      <td>0.050847</td>\n",
              "      <td>1</td>\n",
              "      <td>0</td>\n",
              "      <td>0</td>\n",
              "      <td>0</td>\n",
              "      <td>0</td>\n",
              "      <td>0.5</td>\n",
              "      <td>Illiterate</td>\n",
              "    </tr>\n",
              "  </tbody>\n",
              "</table>\n",
              "</div>"
            ],
            "text/plain": [
              "    Age   FM        NC   NS    FQ   FWQ  ...  LOAN  FDA  CDA  SFM  TDBHC          CQ\n",
              "0  0.42  0.3  0.142857  0.0  0.25  0.00  ...     0    0    0    0    0.0          AH\n",
              "1  0.50  0.3  0.285714  0.0  1.00  1.00  ...     1    0    0    0    0.5  Illiterate\n",
              "2  0.54  0.2  0.142857  1.0  1.00  0.75  ...     1    0    0    0    0.5  Illiterate\n",
              "3  0.34  0.1  0.000000  0.0  1.00  0.00  ...     1    0    0    0    0.5       AC5BS\n",
              "4  0.70  0.3  0.428571  0.0  1.00  1.00  ...     0    0    0    0    0.5  Illiterate\n",
              "\n",
              "[5 rows x 21 columns]"
            ]
          },
          "metadata": {},
          "execution_count": 61
        }
      ]
    },
    {
      "cell_type": "code",
      "metadata": {
        "id": "6lg3EDM8085o"
      },
      "source": [
        "x=df.drop('CQ', axis='columns')"
      ],
      "execution_count": null,
      "outputs": []
    },
    {
      "cell_type": "code",
      "metadata": {
        "colab": {
          "base_uri": "https://localhost:8080/",
          "height": 206
        },
        "id": "kLdM6exP1dRW",
        "outputId": "c244f097-7bce-460f-fb13-f2c4c4ce432b"
      },
      "source": [
        "x.head()"
      ],
      "execution_count": null,
      "outputs": [
        {
          "output_type": "execute_result",
          "data": {
            "text/html": [
              "<div>\n",
              "<style scoped>\n",
              "    .dataframe tbody tr th:only-of-type {\n",
              "        vertical-align: middle;\n",
              "    }\n",
              "\n",
              "    .dataframe tbody tr th {\n",
              "        vertical-align: top;\n",
              "    }\n",
              "\n",
              "    .dataframe thead th {\n",
              "        text-align: right;\n",
              "    }\n",
              "</style>\n",
              "<table border=\"1\" class=\"dataframe\">\n",
              "  <thead>\n",
              "    <tr style=\"text-align: right;\">\n",
              "      <th></th>\n",
              "      <th>Age</th>\n",
              "      <th>FM</th>\n",
              "      <th>NC</th>\n",
              "      <th>NS</th>\n",
              "      <th>FQ</th>\n",
              "      <th>FWQ</th>\n",
              "      <th>NEP</th>\n",
              "      <th>FMI</th>\n",
              "      <th>HEP</th>\n",
              "      <th>OH</th>\n",
              "      <th>HT</th>\n",
              "      <th>EIS</th>\n",
              "      <th>AOL</th>\n",
              "      <th>ALC</th>\n",
              "      <th>SC</th>\n",
              "      <th>LOAN</th>\n",
              "      <th>FDA</th>\n",
              "      <th>CDA</th>\n",
              "      <th>SFM</th>\n",
              "      <th>TDBHC</th>\n",
              "    </tr>\n",
              "  </thead>\n",
              "  <tbody>\n",
              "    <tr>\n",
              "      <th>0</th>\n",
              "      <td>0.42</td>\n",
              "      <td>0.3</td>\n",
              "      <td>0.142857</td>\n",
              "      <td>0.0</td>\n",
              "      <td>0.25</td>\n",
              "      <td>0.00</td>\n",
              "      <td>0.000000</td>\n",
              "      <td>1.0</td>\n",
              "      <td>0</td>\n",
              "      <td>1</td>\n",
              "      <td>0</td>\n",
              "      <td>1</td>\n",
              "      <td>0.266667</td>\n",
              "      <td>0.118644</td>\n",
              "      <td>0</td>\n",
              "      <td>0</td>\n",
              "      <td>0</td>\n",
              "      <td>0</td>\n",
              "      <td>0</td>\n",
              "      <td>0.0</td>\n",
              "    </tr>\n",
              "    <tr>\n",
              "      <th>1</th>\n",
              "      <td>0.50</td>\n",
              "      <td>0.3</td>\n",
              "      <td>0.285714</td>\n",
              "      <td>0.0</td>\n",
              "      <td>1.00</td>\n",
              "      <td>1.00</td>\n",
              "      <td>0.666667</td>\n",
              "      <td>0.5</td>\n",
              "      <td>0</td>\n",
              "      <td>1</td>\n",
              "      <td>1</td>\n",
              "      <td>0</td>\n",
              "      <td>0.050000</td>\n",
              "      <td>0.101695</td>\n",
              "      <td>1</td>\n",
              "      <td>1</td>\n",
              "      <td>0</td>\n",
              "      <td>0</td>\n",
              "      <td>0</td>\n",
              "      <td>0.5</td>\n",
              "    </tr>\n",
              "    <tr>\n",
              "      <th>2</th>\n",
              "      <td>0.54</td>\n",
              "      <td>0.2</td>\n",
              "      <td>0.142857</td>\n",
              "      <td>1.0</td>\n",
              "      <td>1.00</td>\n",
              "      <td>0.75</td>\n",
              "      <td>0.333333</td>\n",
              "      <td>0.5</td>\n",
              "      <td>0</td>\n",
              "      <td>1</td>\n",
              "      <td>1</td>\n",
              "      <td>0</td>\n",
              "      <td>0.070000</td>\n",
              "      <td>0.084746</td>\n",
              "      <td>1</td>\n",
              "      <td>1</td>\n",
              "      <td>0</td>\n",
              "      <td>0</td>\n",
              "      <td>0</td>\n",
              "      <td>0.5</td>\n",
              "    </tr>\n",
              "    <tr>\n",
              "      <th>3</th>\n",
              "      <td>0.34</td>\n",
              "      <td>0.1</td>\n",
              "      <td>0.000000</td>\n",
              "      <td>0.0</td>\n",
              "      <td>1.00</td>\n",
              "      <td>0.00</td>\n",
              "      <td>0.333333</td>\n",
              "      <td>0.5</td>\n",
              "      <td>0</td>\n",
              "      <td>1</td>\n",
              "      <td>1</td>\n",
              "      <td>0</td>\n",
              "      <td>0.050000</td>\n",
              "      <td>0.050847</td>\n",
              "      <td>1</td>\n",
              "      <td>1</td>\n",
              "      <td>0</td>\n",
              "      <td>0</td>\n",
              "      <td>0</td>\n",
              "      <td>0.5</td>\n",
              "    </tr>\n",
              "    <tr>\n",
              "      <th>4</th>\n",
              "      <td>0.70</td>\n",
              "      <td>0.3</td>\n",
              "      <td>0.428571</td>\n",
              "      <td>0.0</td>\n",
              "      <td>1.00</td>\n",
              "      <td>1.00</td>\n",
              "      <td>0.000000</td>\n",
              "      <td>0.5</td>\n",
              "      <td>0</td>\n",
              "      <td>1</td>\n",
              "      <td>1</td>\n",
              "      <td>0</td>\n",
              "      <td>0.100000</td>\n",
              "      <td>0.050847</td>\n",
              "      <td>1</td>\n",
              "      <td>0</td>\n",
              "      <td>0</td>\n",
              "      <td>0</td>\n",
              "      <td>0</td>\n",
              "      <td>0.5</td>\n",
              "    </tr>\n",
              "  </tbody>\n",
              "</table>\n",
              "</div>"
            ],
            "text/plain": [
              "    Age   FM        NC   NS    FQ   FWQ  ...  SC  LOAN  FDA  CDA  SFM  TDBHC\n",
              "0  0.42  0.3  0.142857  0.0  0.25  0.00  ...   0     0    0    0    0    0.0\n",
              "1  0.50  0.3  0.285714  0.0  1.00  1.00  ...   1     1    0    0    0    0.5\n",
              "2  0.54  0.2  0.142857  1.0  1.00  0.75  ...   1     1    0    0    0    0.5\n",
              "3  0.34  0.1  0.000000  0.0  1.00  0.00  ...   1     1    0    0    0    0.5\n",
              "4  0.70  0.3  0.428571  0.0  1.00  1.00  ...   1     0    0    0    0    0.5\n",
              "\n",
              "[5 rows x 20 columns]"
            ]
          },
          "metadata": {},
          "execution_count": 63
        }
      ]
    },
    {
      "cell_type": "code",
      "metadata": {
        "id": "T4bIrYtE1ftZ"
      },
      "source": [
        "y=df['CQ']"
      ],
      "execution_count": null,
      "outputs": []
    },
    {
      "cell_type": "code",
      "metadata": {
        "colab": {
          "base_uri": "https://localhost:8080/"
        },
        "id": "nJQnwj7i1qla",
        "outputId": "09361116-8532-4f5c-8c75-984a3f80ecff"
      },
      "source": [
        "y.head(15)"
      ],
      "execution_count": null,
      "outputs": [
        {
          "output_type": "execute_result",
          "data": {
            "text/plain": [
              "0             AH\n",
              "1     Illiterate\n",
              "2     Illiterate\n",
              "3          AC5BS\n",
              "4     Illiterate\n",
              "5     Illiterate\n",
              "6     Illiterate\n",
              "7          AC5BS\n",
              "8           ASBH\n",
              "9          AC5BS\n",
              "10            AH\n",
              "11          ASBH\n",
              "12    Illiterate\n",
              "13           BC5\n",
              "14         AC5BS\n",
              "Name: CQ, dtype: object"
            ]
          },
          "metadata": {},
          "execution_count": 65
        }
      ]
    },
    {
      "cell_type": "markdown",
      "metadata": {
        "id": "D0WTx5y0Yu6u"
      },
      "source": [
        "# **Decission** **Tree**"
      ]
    },
    {
      "cell_type": "code",
      "metadata": {
        "id": "eYLY0c7tBy_T"
      },
      "source": [
        "y_new=lebel_encoder.fit_transform(y)"
      ],
      "execution_count": null,
      "outputs": []
    },
    {
      "cell_type": "code",
      "metadata": {
        "id": "d-SDPNPEY_gd"
      },
      "source": [
        "from sklearn.model_selection import train_test_split\n",
        "train_x, test_x, train_y, test_y =train_test_split(x,y_new,test_size= 0.2,random_state=1)"
      ],
      "execution_count": null,
      "outputs": []
    },
    {
      "cell_type": "code",
      "metadata": {
        "id": "tMkuK9niY_pI"
      },
      "source": [
        "from sklearn.tree import DecisionTreeClassifier"
      ],
      "execution_count": null,
      "outputs": []
    },
    {
      "cell_type": "code",
      "metadata": {
        "id": "BaI_BAAEY_sZ"
      },
      "source": [
        "clf = DecisionTreeClassifier(criterion=\"gini\",splitter=\"best\",max_depth=3)"
      ],
      "execution_count": null,
      "outputs": []
    },
    {
      "cell_type": "code",
      "metadata": {
        "id": "HrMLGa5mY_v8"
      },
      "source": [
        "clf = clf.fit(train_x,train_y)"
      ],
      "execution_count": null,
      "outputs": []
    },
    {
      "cell_type": "code",
      "metadata": {
        "colab": {
          "base_uri": "https://localhost:8080/"
        },
        "id": "QGkU2zlPZiYk",
        "outputId": "bdc4fb2c-ebc2-4c0e-80ec-c274c30012db"
      },
      "source": [
        "clf.score(test_x,test_y)"
      ],
      "execution_count": null,
      "outputs": [
        {
          "output_type": "execute_result",
          "data": {
            "text/plain": [
              "0.8431372549019608"
            ]
          },
          "metadata": {},
          "execution_count": 102
        }
      ]
    },
    {
      "cell_type": "code",
      "metadata": {
        "id": "qgd861aZZib2"
      },
      "source": [
        "pred_dt = clf.predict(test_x)"
      ],
      "execution_count": null,
      "outputs": []
    },
    {
      "cell_type": "code",
      "metadata": {
        "colab": {
          "base_uri": "https://localhost:8080/"
        },
        "id": "6eBr6rowahnp",
        "outputId": "e9a7bb38-828c-436d-f9fd-4680f201c32b"
      },
      "source": [
        "pred_dt"
      ],
      "execution_count": null,
      "outputs": [
        {
          "output_type": "execute_result",
          "data": {
            "text/plain": [
              "array([3, 3, 1, 4, 3, 1, 3, 0, 1, 4, 4, 0, 4, 4, 3, 4, 3, 0, 1, 3, 4, 4,\n",
              "       4, 2, 0, 2, 1, 3, 3, 1, 0, 4, 0, 1, 2, 0, 1, 0, 3, 0, 1, 3, 1, 4,\n",
              "       4, 3, 3, 1, 4, 0, 1, 1, 4, 2, 1, 4, 0, 4, 4, 0, 4, 0, 4, 0, 2, 2,\n",
              "       0, 4, 0, 2, 0, 1, 1, 4, 1, 2, 3, 0, 3, 3, 4, 0, 3, 0, 4, 2, 0, 4,\n",
              "       1, 1, 4, 1, 2, 4, 0, 0, 4, 4, 1, 3, 4, 4])"
            ]
          },
          "metadata": {},
          "execution_count": 104
        }
      ]
    },
    {
      "cell_type": "code",
      "metadata": {
        "colab": {
          "base_uri": "https://localhost:8080/"
        },
        "id": "-82tRCYwahqB",
        "outputId": "1d9a70fc-6d01-4e3c-8b93-19511aebf490"
      },
      "source": [
        "from sklearn.metrics import accuracy_score\n",
        "print(\"Accuracy=\",accuracy_score(test_y,pred_dt))"
      ],
      "execution_count": null,
      "outputs": [
        {
          "output_type": "stream",
          "name": "stdout",
          "text": [
            "Accuracy= 0.8431372549019608\n"
          ]
        }
      ]
    },
    {
      "cell_type": "code",
      "metadata": {
        "colab": {
          "base_uri": "https://localhost:8080/",
          "height": 693
        },
        "id": "2VDbDCdWzxyI",
        "outputId": "003173df-42b9-4852-cab7-18a71531b145"
      },
      "source": [
        "import scikitplot as skplt\n",
        "\n",
        "skplt.metrics.plot_confusion_matrix(\n",
        "    test_y, \n",
        "    pred_dt,\n",
        "    figsize=(12,12))\n",
        "plt.savefig('/content/drive/MyDrive/Colab Notebooks/Thesis /Dataset/DT_Confusion.png')"
      ],
      "execution_count": null,
      "outputs": [
        {
          "output_type": "display_data",
          "data": {
            "image/png": "[encoded data removed]",
            "text/plain": [
              "<Figure size 864x864 with 2 Axes>"
            ]
          },
          "metadata": {}
        }
      ]
    },
    {
      "cell_type": "code",
      "metadata": {
        "colab": {
          "base_uri": "https://localhost:8080/"
        },
        "id": "PSTZ2bm3ahwi",
        "outputId": "21287de1-f873-42bf-fba6-57a5e3343c4a"
      },
      "source": [
        "from sklearn.metrics import classification_report\n",
        "print(classification_report(test_y, pred_dt))"
      ],
      "execution_count": null,
      "outputs": [
        {
          "output_type": "stream",
          "name": "stdout",
          "text": [
            "              precision    recall  f1-score   support\n",
            "\n",
            "           0       0.78      0.78      0.78        23\n",
            "           1       0.90      0.90      0.90        21\n",
            "           2       1.00      0.77      0.87        13\n",
            "           3       0.78      0.88      0.82        16\n",
            "           4       0.83      0.86      0.85        29\n",
            "\n",
            "    accuracy                           0.84       102\n",
            "   macro avg       0.86      0.84      0.85       102\n",
            "weighted avg       0.85      0.84      0.84       102\n",
            "\n"
          ]
        }
      ]
    },
    {
      "cell_type": "markdown",
      "metadata": {
        "id": "UJao4aRcK3C0"
      },
      "source": [
        "k-fold cross validation\n"
      ]
    },
    {
      "cell_type": "code",
      "metadata": {
        "id": "IaIu_jb3Kzdt"
      },
      "source": [
        "from sklearn.model_selection import cross_val_score"
      ],
      "execution_count": null,
      "outputs": []
    },
    {
      "cell_type": "code",
      "metadata": {
        "id": "yqelTKkrLN4o"
      },
      "source": [
        "cv_score=cross_val_score(clf,x,y,cv=5)"
      ],
      "execution_count": null,
      "outputs": []
    },
    {
      "cell_type": "code",
      "metadata": {
        "colab": {
          "base_uri": "https://localhost:8080/"
        },
        "id": "YBLMGabmLN8B",
        "outputId": "66c65e66-6b15-44d9-ba93-8e623d937414"
      },
      "source": [
        "cv_score"
      ],
      "execution_count": null,
      "outputs": [
        {
          "output_type": "execute_result",
          "data": {
            "text/plain": [
              "array([0.80392157, 0.84158416, 0.84158416, 0.92079208, 0.84158416])"
            ]
          },
          "metadata": {},
          "execution_count": 110
        }
      ]
    },
    {
      "cell_type": "code",
      "metadata": {
        "colab": {
          "base_uri": "https://localhost:8080/"
        },
        "id": "wrjjXthVLN_o",
        "outputId": "01bd0789-906f-414a-ce64-c791ccf137f3"
      },
      "source": [
        "cv_score.mean()"
      ],
      "execution_count": null,
      "outputs": [
        {
          "output_type": "execute_result",
          "data": {
            "text/plain": [
              "0.8498932246165793"
            ]
          },
          "metadata": {},
          "execution_count": 111
        }
      ]
    },
    {
      "cell_type": "markdown",
      "metadata": {
        "id": "CxXTj0ejzCLj"
      },
      "source": [
        "AUC-ROC Curve "
      ]
    },
    {
      "cell_type": "code",
      "metadata": {
        "colab": {
          "base_uri": "https://localhost:8080/",
          "height": 533
        },
        "id": "sPC1Ghe5zFpE",
        "outputId": "32e42f63-4f20-4e50-9c10-02c926deb2f1"
      },
      "source": [
        "y_pred_proba=clf.predict_proba(test_x)\n",
        "from sklearn.metrics import roc_auc_score\n",
        "from sklearn.metrics import roc_curve\n",
        "roc_auc_score(test_y, y_pred_proba, multi_class='ovo', average='weighted')\n",
        "\n",
        "fpr = {}\n",
        "tpr = {}\n",
        "thresh ={}\n",
        "\n",
        "n_class = 5\n",
        "\n",
        "for i in range(n_class):    \n",
        "    fpr[i], tpr[i], thresh[i] = roc_curve(test_y, y_pred_proba[:,i], pos_label=i)\n",
        "    \n",
        "# plotting    \n",
        "plt.plot(fpr[0], tpr[0], linestyle='--',color='black', label='Class 0 vs Rest')\n",
        "plt.plot(fpr[1], tpr[1], linestyle='--',color='green', label='Class 1 vs Rest')\n",
        "plt.plot(fpr[2], tpr[2], linestyle='--',color='olive', label='Class 2 vs Rest')\n",
        "plt.plot(fpr[3], tpr[3], linestyle='--',color='yellow', label='Class 3 vs Rest')\n",
        "plt.plot(fpr[4], tpr[4], linestyle='--',color='purple', label='Class 4 vs Rest')\n",
        "plt.plot([0, 1], [0, 1], color=\"blue\", linestyle=\"--\")\n",
        "plt.title(\"Multiclass ROC curve\")\n",
        "plt.xlabel('False Positive Rate')\n",
        "plt.ylabel('True Positive rate')\n",
        "plt.legend(loc='best')\n",
        "plt.savefig('/content/drive/MyDrive/Colab Notebooks/Thesis /Dataset/DT_ROC.png')"
      ],
      "execution_count": null,
      "outputs": [
        {
          "output_type": "display_data",
          "data": {
            "image/png": "[encoded data removed]",
            "text/plain": [
              "<Figure size 1080x595.44 with 1 Axes>"
            ]
          },
          "metadata": {}
        }
      ]
    },
    {
      "cell_type": "markdown",
      "metadata": {
        "id": "1pos2275citx"
      },
      "source": [
        "# **Random Forest**"
      ]
    },
    {
      "cell_type": "code",
      "metadata": {
        "id": "y2Umo3Y7c2Yj"
      },
      "source": [
        "from sklearn.model_selection import train_test_split\n",
        "train_x, test_x, train_y, test_y =train_test_split(x,y_new,test_size= 0.2,random_state=2)"
      ],
      "execution_count": null,
      "outputs": []
    },
    {
      "cell_type": "code",
      "metadata": {
        "id": "qiDgmMwM2HKz"
      },
      "source": [
        "from sklearn.ensemble import RandomForestClassifier"
      ],
      "execution_count": null,
      "outputs": []
    },
    {
      "cell_type": "code",
      "metadata": {
        "id": "eySPRR7q3a2B"
      },
      "source": [
        "Rclf = RandomForestClassifier(n_estimators=115,criterion=\"entropy\",max_depth=5)"
      ],
      "execution_count": null,
      "outputs": []
    },
    {
      "cell_type": "code",
      "metadata": {
        "colab": {
          "base_uri": "https://localhost:8080/"
        },
        "id": "WQPkEo1d3qeo",
        "outputId": "3a0f2acb-b865-44c5-af0e-85c5d7fd2ffa"
      },
      "source": [
        "Rclf.fit(train_x,train_y)"
      ],
      "execution_count": null,
      "outputs": [
        {
          "output_type": "execute_result",
          "data": {
            "text/plain": [
              "RandomForestClassifier(criterion='entropy', max_depth=5, n_estimators=115)"
            ]
          },
          "metadata": {},
          "execution_count": 408
        }
      ]
    },
    {
      "cell_type": "code",
      "metadata": {
        "colab": {
          "base_uri": "https://localhost:8080/"
        },
        "id": "n3boI1N_dZQR",
        "outputId": "093f77e0-912e-4b7b-99bc-86526d726d17"
      },
      "source": [
        "Rclf.score(test_x,test_y)"
      ],
      "execution_count": null,
      "outputs": [
        {
          "output_type": "execute_result",
          "data": {
            "text/plain": [
              "0.8627450980392157"
            ]
          },
          "metadata": {},
          "execution_count": 409
        }
      ]
    },
    {
      "cell_type": "code",
      "metadata": {
        "id": "XVQsqvDZ3tuQ"
      },
      "source": [
        "pred_rf = Rclf.predict(test_x)"
      ],
      "execution_count": null,
      "outputs": []
    },
    {
      "cell_type": "code",
      "metadata": {
        "colab": {
          "base_uri": "https://localhost:8080/"
        },
        "id": "zI3GZ7s24Lm4",
        "outputId": "6e7024c1-afa2-468c-bf6b-237dbb37b34f"
      },
      "source": [
        "pred_rf"
      ],
      "execution_count": null,
      "outputs": [
        {
          "output_type": "execute_result",
          "data": {
            "text/plain": [
              "array([1, 4, 3, 0, 4, 4, 0, 1, 4, 3, 1, 4, 0, 1, 3, 4, 1, 4, 3, 1, 3, 0,\n",
              "       1, 0, 0, 3, 3, 3, 2, 3, 4, 0, 0, 0, 4, 4, 3, 3, 4, 0, 4, 2, 4, 1,\n",
              "       0, 3, 2, 0, 3, 3, 4, 0, 1, 3, 4, 0, 0, 0, 4, 4, 1, 3, 4, 4, 4, 0,\n",
              "       4, 2, 1, 0, 3, 3, 0, 1, 0, 4, 4, 0, 4, 0, 1, 3, 0, 2, 1, 2, 4, 4,\n",
              "       3, 3, 4, 0, 2, 0, 2, 2, 0, 2, 4, 4, 0, 0])"
            ]
          },
          "metadata": {},
          "execution_count": 411
        }
      ]
    },
    {
      "cell_type": "code",
      "metadata": {
        "id": "ptwoZ0e54XyZ",
        "colab": {
          "base_uri": "https://localhost:8080/"
        },
        "outputId": "62e48c72-5728-4288-81e7-b7506e25c1ef"
      },
      "source": [
        "from sklearn.metrics import accuracy_score\n",
        "print(\"Accuracy=\",accuracy_score(test_y,pred_rf))"
      ],
      "execution_count": null,
      "outputs": [
        {
          "output_type": "stream",
          "name": "stdout",
          "text": [
            "Accuracy= 0.8627450980392157\n"
          ]
        }
      ]
    },
    {
      "cell_type": "code",
      "metadata": {
        "colab": {
          "base_uri": "https://localhost:8080/",
          "height": 693
        },
        "id": "6kFXZnbzsu6o",
        "outputId": "4354da2c-e539-428a-84a0-6bd9491cf24c"
      },
      "source": [
        "\n",
        "import scikitplot as skplt\n",
        "\n",
        "skplt.metrics.plot_confusion_matrix(\n",
        "    test_y, \n",
        "    pred_rf,\n",
        "    figsize=(12,12))\n",
        "plt.savefig('/content/drive/MyDrive/Colab Notebooks/Thesis /Dataset/RF_Confusion.png')"
      ],
      "execution_count": null,
      "outputs": [
        {
          "output_type": "display_data",
          "data": {
            "image/png": "[encoded data removed]",
            "text/plain": [
              "<Figure size 864x864 with 2 Axes>"
            ]
          },
          "metadata": {}
        }
      ]
    },
    {
      "cell_type": "code",
      "metadata": {
        "colab": {
          "base_uri": "https://localhost:8080/"
        },
        "id": "HWVVtiF7ejjw",
        "outputId": "1ad17b97-790b-4c32-9af5-ed7bc9371da6"
      },
      "source": [
        "from sklearn.metrics import classification_report\n",
        "print(classification_report(test_y, pred_rf))"
      ],
      "execution_count": null,
      "outputs": [
        {
          "output_type": "stream",
          "name": "stdout",
          "text": [
            "              precision    recall  f1-score   support\n",
            "\n",
            "           0       0.86      0.86      0.86        28\n",
            "           1       0.93      0.81      0.87        16\n",
            "           2       0.90      0.82      0.86        11\n",
            "           3       0.81      0.81      0.81        21\n",
            "           4       0.86      0.96      0.91        26\n",
            "\n",
            "    accuracy                           0.86       102\n",
            "   macro avg       0.87      0.85      0.86       102\n",
            "weighted avg       0.86      0.86      0.86       102\n",
            "\n"
          ]
        }
      ]
    },
    {
      "cell_type": "markdown",
      "metadata": {
        "id": "2YgFFU72MOmZ"
      },
      "source": [
        "k-fold cross validation"
      ]
    },
    {
      "cell_type": "code",
      "metadata": {
        "id": "gC1vA53z0UaF"
      },
      "source": [
        "from sklearn.model_selection import cross_val_score"
      ],
      "execution_count": null,
      "outputs": []
    },
    {
      "cell_type": "code",
      "metadata": {
        "id": "MBPkJen-MTrW"
      },
      "source": [
        "cv_score=cross_val_score(Rclf,x,y,cv=5)"
      ],
      "execution_count": null,
      "outputs": []
    },
    {
      "cell_type": "code",
      "metadata": {
        "colab": {
          "base_uri": "https://localhost:8080/"
        },
        "id": "R3JdmRGdMT1t",
        "outputId": "f80b3b6c-50da-4bcb-cd5e-890964feb3ad"
      },
      "source": [
        "cv_score"
      ],
      "execution_count": null,
      "outputs": [
        {
          "output_type": "execute_result",
          "data": {
            "text/plain": [
              "array([0.80392157, 0.86138614, 0.84158416, 0.91089109, 0.84158416])"
            ]
          },
          "metadata": {},
          "execution_count": 417
        }
      ]
    },
    {
      "cell_type": "code",
      "metadata": {
        "colab": {
          "base_uri": "https://localhost:8080/"
        },
        "id": "dItH0gt6MT91",
        "outputId": "7ff7f5cb-0133-4eef-ae62-fd1daa36fd35"
      },
      "source": [
        "cv_score.mean()"
      ],
      "execution_count": null,
      "outputs": [
        {
          "output_type": "execute_result",
          "data": {
            "text/plain": [
              "0.8518734226363813"
            ]
          },
          "metadata": {},
          "execution_count": 418
        }
      ]
    },
    {
      "cell_type": "markdown",
      "metadata": {
        "id": "jv9QaDLJRg24"
      },
      "source": [
        "AUC-ROC Curve"
      ]
    },
    {
      "cell_type": "code",
      "metadata": {
        "id": "izkZ_GASArKa",
        "colab": {
          "base_uri": "https://localhost:8080/",
          "height": 533
        },
        "outputId": "d694779e-e5db-49c8-994f-4bc36b8a3976"
      },
      "source": [
        "y_pred_proba=Rclf.predict_proba(test_x)\n",
        "from sklearn.metrics import roc_auc_score\n",
        "roc_auc_score(test_y, y_pred_proba, multi_class='ovo', average='weighted')\n",
        "\n",
        "fpr = {}\n",
        "tpr = {}\n",
        "thresh ={}\n",
        "\n",
        "n_class = 5\n",
        "\n",
        "for i in range(n_class):    \n",
        "    fpr[i], tpr[i], thresh[i] = roc_curve(test_y, y_pred_proba[:,i], pos_label=i)\n",
        "    \n",
        "# plotting    \n",
        "plt.plot(fpr[0], tpr[0], linestyle='--',color='black', label='Class 0 vs Rest')\n",
        "plt.plot(fpr[1], tpr[1], linestyle='--',color='green', label='Class 1 vs Rest')\n",
        "plt.plot(fpr[2], tpr[2], linestyle='--',color='olive', label='Class 2 vs Rest')\n",
        "plt.plot(fpr[3], tpr[3], linestyle='--',color='yellow', label='Class 3 vs Rest')\n",
        "plt.plot(fpr[4], tpr[4], linestyle='--',color='purple', label='Class 4 vs Rest')\n",
        "plt.plot([0, 1], [0, 1], color=\"blue\", linestyle=\"--\")\n",
        "plt.title('Multiclass ROC curve')\n",
        "plt.xlabel('False Positive Rate')\n",
        "plt.ylabel('True Positive rate')\n",
        "plt.legend(loc='best')\n",
        "plt.savefig('/content/drive/MyDrive/Colab Notebooks/Thesis /Dataset/RF_ROC.png')        "
      ],
      "execution_count": null,
      "outputs": [
        {
          "output_type": "display_data",
          "data": {
            "image/png": "[encoded data removed]",
            "text/plain": [
              "<Figure size 1080x595.44 with 1 Axes>"
            ]
          },
          "metadata": {}
        }
      ]
    },
    {
      "cell_type": "markdown",
      "metadata": {
        "id": "OI_mhrKI_zeh"
      },
      "source": [
        "# **AdaBoost**"
      ]
    },
    {
      "cell_type": "code",
      "metadata": {
        "id": "BWFobLa3_5H7"
      },
      "source": [
        "from sklearn.model_selection import train_test_split\n",
        "train_x, test_x, train_y, test_y =train_test_split(x,y_new,test_size= 0.2,random_state=1)"
      ],
      "execution_count": null,
      "outputs": []
    },
    {
      "cell_type": "code",
      "metadata": {
        "id": "cfMOBJbi_5rU"
      },
      "source": [
        "from sklearn.ensemble import AdaBoostClassifier\n",
        "ada = AdaBoostClassifier(n_estimators=105, learning_rate=1, random_state=1)\n",
        "model1 = ada.fit(train_x,train_y)"
      ],
      "execution_count": null,
      "outputs": []
    },
    {
      "cell_type": "code",
      "metadata": {
        "colab": {
          "base_uri": "https://localhost:8080/"
        },
        "id": "PTXLCFK7_5w0",
        "outputId": "e24ad793-d30c-4062-c19e-d8c601651975"
      },
      "source": [
        "model1.score(test_x,test_y)"
      ],
      "execution_count": null,
      "outputs": [
        {
          "output_type": "execute_result",
          "data": {
            "text/plain": [
              "0.7450980392156863"
            ]
          },
          "metadata": {},
          "execution_count": 477
        }
      ]
    },
    {
      "cell_type": "code",
      "metadata": {
        "id": "zl2r-Qqy_52v"
      },
      "source": [
        "pred_ada = model1.predict(test_x)"
      ],
      "execution_count": null,
      "outputs": []
    },
    {
      "cell_type": "code",
      "metadata": {
        "colab": {
          "base_uri": "https://localhost:8080/"
        },
        "id": "9F251UWXAz_C",
        "outputId": "19bbd9bf-4498-492a-ac06-c23065fd7346"
      },
      "source": [
        "pred_ada"
      ],
      "execution_count": null,
      "outputs": [
        {
          "output_type": "execute_result",
          "data": {
            "text/plain": [
              "array([3, 3, 2, 4, 0, 1, 3, 0, 2, 4, 4, 0, 4, 4, 3, 4, 3, 0, 1, 0, 4, 4,\n",
              "       4, 2, 0, 2, 2, 3, 0, 1, 0, 4, 0, 1, 2, 0, 1, 0, 4, 0, 1, 3, 1, 4,\n",
              "       4, 0, 1, 1, 4, 0, 1, 2, 4, 2, 1, 3, 0, 4, 3, 0, 1, 0, 4, 0, 1, 2,\n",
              "       0, 4, 4, 2, 0, 1, 1, 4, 2, 2, 3, 0, 0, 3, 3, 0, 3, 0, 3, 2, 0, 4,\n",
              "       1, 1, 4, 1, 0, 4, 0, 0, 0, 4, 1, 3, 4, 4])"
            ]
          },
          "metadata": {},
          "execution_count": 479
        }
      ]
    },
    {
      "cell_type": "code",
      "metadata": {
        "colab": {
          "base_uri": "https://localhost:8080/"
        },
        "id": "37voDp27A0Cs",
        "outputId": "d1a62886-e369-446f-b04e-27e4712f6155"
      },
      "source": [
        "from sklearn.metrics import accuracy_score\n",
        "print(\"Accuracy=\",accuracy_score(test_y,pred_ada))"
      ],
      "execution_count": null,
      "outputs": [
        {
          "output_type": "stream",
          "name": "stdout",
          "text": [
            "Accuracy= 0.7450980392156863\n"
          ]
        }
      ]
    },
    {
      "cell_type": "code",
      "metadata": {
        "colab": {
          "base_uri": "https://localhost:8080/",
          "height": 689
        },
        "id": "sjAlZ8pmBDo1",
        "outputId": "9ada0da5-fd3e-4d69-ed9e-58a32c933266"
      },
      "source": [
        "import scikitplot as skplt\n",
        "\n",
        "skplt.metrics.plot_confusion_matrix(\n",
        "    test_y, \n",
        "    pred_ada,\n",
        "    figsize=(12,12))\n",
        "plt.savefig('/content/drive/MyDrive/Colab Notebooks/Thesis /Dataset/Confusion_ada.png')"
      ],
      "execution_count": null,
      "outputs": [
        {
          "output_type": "display_data",
          "data": {
            "image/png": "[encoded data removed]",
            "text/plain": [
              "<Figure size 864x864 with 2 Axes>"
            ]
          },
          "metadata": {}
        }
      ]
    },
    {
      "cell_type": "code",
      "metadata": {
        "colab": {
          "base_uri": "https://localhost:8080/"
        },
        "id": "R-hNgREXBDsv",
        "outputId": "b542832c-bb77-455f-8ef3-67cd860066a5"
      },
      "source": [
        "from sklearn.metrics import classification_report\n",
        "print(classification_report(test_y, pred_ada))"
      ],
      "execution_count": null,
      "outputs": [
        {
          "output_type": "stream",
          "name": "stdout",
          "text": [
            "              precision    recall  f1-score   support\n",
            "\n",
            "           0       0.69      0.87      0.77        23\n",
            "           1       0.84      0.76      0.80        21\n",
            "           2       0.69      0.69      0.69        13\n",
            "           3       0.53      0.50      0.52        16\n",
            "           4       0.88      0.79      0.84        29\n",
            "\n",
            "    accuracy                           0.75       102\n",
            "   macro avg       0.73      0.72      0.72       102\n",
            "weighted avg       0.75      0.75      0.75       102\n",
            "\n"
          ]
        }
      ]
    },
    {
      "cell_type": "markdown",
      "metadata": {
        "id": "2cLL-dL9BgQa"
      },
      "source": [
        "k-fold cross validation"
      ]
    },
    {
      "cell_type": "code",
      "metadata": {
        "colab": {
          "base_uri": "https://localhost:8080/"
        },
        "id": "nTToA2_6Bbib",
        "outputId": "a602522b-6f1d-4a2d-b4de-ce17068ee613"
      },
      "source": [
        "from sklearn.model_selection import cross_val_score\n",
        "cv_score=cross_val_score(model1,x,y,cv=5)\n",
        "cv_score"
      ],
      "execution_count": null,
      "outputs": [
        {
          "output_type": "execute_result",
          "data": {
            "text/plain": [
              "array([0.7254902 , 0.74257426, 0.8019802 , 0.77227723, 0.7029703 ])"
            ]
          },
          "metadata": {},
          "execution_count": 483
        }
      ]
    },
    {
      "cell_type": "code",
      "metadata": {
        "colab": {
          "base_uri": "https://localhost:8080/"
        },
        "id": "M-f6thDKBsTM",
        "outputId": "e7cc8706-af1e-40a1-d771-6111de2cf5ca"
      },
      "source": [
        "cv_score.mean()"
      ],
      "execution_count": null,
      "outputs": [
        {
          "output_type": "execute_result",
          "data": {
            "text/plain": [
              "0.74905843525529"
            ]
          },
          "metadata": {},
          "execution_count": 484
        }
      ]
    },
    {
      "cell_type": "code",
      "metadata": {
        "colab": {
          "base_uri": "https://localhost:8080/",
          "height": 533
        },
        "id": "BOEpnehLUom3",
        "outputId": "574349ab-851d-417e-ab67-c855499696e1"
      },
      "source": [
        "y_pred_proba=model1.predict_proba(test_x)\n",
        "from sklearn.metrics import roc_auc_score\n",
        "roc_auc_score(test_y, y_pred_proba, multi_class='ovo', average='weighted')\n",
        "\n",
        "fpr = {}\n",
        "tpr = {}\n",
        "thresh ={}\n",
        "\n",
        "n_class = 5\n",
        "\n",
        "for i in range(n_class):    \n",
        "    fpr[i], tpr[i], thresh[i] = roc_curve(test_y, y_pred_proba[:,i], pos_label=i)\n",
        "    \n",
        "# plotting    \n",
        "plt.plot(fpr[0], tpr[0], linestyle='--',color='black', label='Class 0 vs Rest')\n",
        "plt.plot(fpr[1], tpr[1], linestyle='--',color='green', label='Class 1 vs Rest')\n",
        "plt.plot(fpr[2], tpr[2], linestyle='--',color='olive', label='Class 2 vs Rest')\n",
        "plt.plot(fpr[3], tpr[3], linestyle='--',color='yellow', label='Class 3 vs Rest')\n",
        "plt.plot(fpr[4], tpr[4], linestyle='--',color='purple', label='Class 4 vs Rest')\n",
        "plt.plot([0, 1], [0, 1], color=\"blue\", linestyle=\"--\")\n",
        "plt.title('Multiclass ROC curve')\n",
        "plt.xlabel('False Positive Rate')\n",
        "plt.ylabel('True Positive rate')\n",
        "plt.legend(loc='best')\n",
        "plt.savefig('/content/drive/MyDrive/Colab Notebooks/Thesis /Dataset/Ada_ROC.png')        "
      ],
      "execution_count": null,
      "outputs": [
        {
          "output_type": "display_data",
          "data": {
            "image/png": "[encoded data removed]",
            "text/plain": [
              "<Figure size 1080x595.44 with 1 Axes>"
            ]
          },
          "metadata": {}
        }
      ]
    },
    {
      "cell_type": "markdown",
      "metadata": {
        "id": "IQx5_t09Eoj3"
      },
      "source": [
        "# **Gradient Boosting Classifier**"
      ]
    },
    {
      "cell_type": "code",
      "metadata": {
        "id": "1KPMUxNiEtsb"
      },
      "source": [
        "from sklearn.model_selection import train_test_split\n",
        "train_x, test_x, train_y, test_y =train_test_split(x,y_new,test_size= 0.2,random_state=1)"
      ],
      "execution_count": null,
      "outputs": []
    },
    {
      "cell_type": "code",
      "metadata": {
        "id": "SMo4mi-wEx5T"
      },
      "source": [
        "from sklearn.ensemble import GradientBoostingClassifier\n",
        "boost=GradientBoostingClassifier(n_estimators=150,learning_rate=0.01,max_depth=3,max_leaf_nodes=10)\n",
        "model2 = boost.fit(train_x,train_y)"
      ],
      "execution_count": null,
      "outputs": []
    },
    {
      "cell_type": "code",
      "metadata": {
        "colab": {
          "base_uri": "https://localhost:8080/"
        },
        "id": "zULE-KwhEx8R",
        "outputId": "50bdc501-30eb-416c-a932-ebea7b15aba9"
      },
      "source": [
        "model2.score(test_x,test_y)"
      ],
      "execution_count": null,
      "outputs": [
        {
          "output_type": "execute_result",
          "data": {
            "text/plain": [
              "0.8529411764705882"
            ]
          },
          "metadata": {},
          "execution_count": 508
        }
      ]
    },
    {
      "cell_type": "code",
      "metadata": {
        "colab": {
          "base_uri": "https://localhost:8080/"
        },
        "id": "E53Gfp4wEx_V",
        "outputId": "2a0d5324-3894-48da-9274-37e652f232b0"
      },
      "source": [
        "pred_b = model2.predict(test_x)\n",
        "pred_b"
      ],
      "execution_count": null,
      "outputs": [
        {
          "output_type": "execute_result",
          "data": {
            "text/plain": [
              "array([3, 3, 1, 3, 3, 1, 3, 0, 1, 4, 4, 0, 4, 4, 3, 4, 3, 0, 1, 4, 4, 4,\n",
              "       4, 2, 0, 2, 1, 3, 3, 1, 0, 4, 0, 1, 2, 0, 1, 0, 3, 0, 1, 3, 1, 4,\n",
              "       4, 3, 3, 1, 4, 0, 1, 1, 4, 2, 1, 4, 0, 4, 4, 0, 0, 0, 4, 0, 2, 2,\n",
              "       0, 4, 0, 2, 0, 1, 1, 4, 1, 2, 3, 0, 3, 3, 4, 0, 3, 0, 4, 2, 0, 4,\n",
              "       1, 1, 4, 1, 2, 4, 0, 0, 0, 4, 1, 3, 4, 4])"
            ]
          },
          "metadata": {},
          "execution_count": 509
        }
      ]
    },
    {
      "cell_type": "code",
      "metadata": {
        "colab": {
          "base_uri": "https://localhost:8080/"
        },
        "id": "i2_yZruEFeNq",
        "outputId": "2db6ea16-0d0b-4c0b-a6bb-ec5e173f5200"
      },
      "source": [
        "from sklearn.metrics import accuracy_score\n",
        "print(\"Accuracy=\",accuracy_score(test_y,pred_b))"
      ],
      "execution_count": null,
      "outputs": [
        {
          "output_type": "stream",
          "name": "stdout",
          "text": [
            "Accuracy= 0.8529411764705882\n"
          ]
        }
      ]
    },
    {
      "cell_type": "code",
      "metadata": {
        "colab": {
          "base_uri": "https://localhost:8080/",
          "height": 693
        },
        "id": "QM2RQqNfFeUy",
        "outputId": "1162d8fc-fefb-47c5-8d04-826ecac3f898"
      },
      "source": [
        "import scikitplot as skplt\n",
        "\n",
        "skplt.metrics.plot_confusion_matrix(\n",
        "    test_y, \n",
        "    pred_b,\n",
        "    figsize=(12,12))\n",
        "plt.savefig('/content/drive/MyDrive/Colab Notebooks/Thesis /Dataset/Confusion_Gboost.png')"
      ],
      "execution_count": null,
      "outputs": [
        {
          "output_type": "display_data",
          "data": {
            "image/png": "[encoded data removed]",
            "text/plain": [
              "<Figure size 864x864 with 2 Axes>"
            ]
          },
          "metadata": {}
        }
      ]
    },
    {
      "cell_type": "code",
      "metadata": {
        "colab": {
          "base_uri": "https://localhost:8080/"
        },
        "id": "Gnx8LjRiFzB7",
        "outputId": "13df24b3-1e4e-40f3-f541-477018bc66a5"
      },
      "source": [
        "from sklearn.metrics import classification_report\n",
        "print(classification_report(test_y, pred_b))"
      ],
      "execution_count": null,
      "outputs": [
        {
          "output_type": "stream",
          "name": "stdout",
          "text": [
            "              precision    recall  f1-score   support\n",
            "\n",
            "           0       0.76      0.83      0.79        23\n",
            "           1       0.90      0.90      0.90        21\n",
            "           2       1.00      0.77      0.87        13\n",
            "           3       0.78      0.88      0.82        16\n",
            "           4       0.89      0.86      0.88        29\n",
            "\n",
            "    accuracy                           0.85       102\n",
            "   macro avg       0.87      0.85      0.85       102\n",
            "weighted avg       0.86      0.85      0.85       102\n",
            "\n"
          ]
        }
      ]
    },
    {
      "cell_type": "markdown",
      "metadata": {
        "id": "moFYzKlvGHZk"
      },
      "source": [
        "k-fold cross validation"
      ]
    },
    {
      "cell_type": "code",
      "metadata": {
        "colab": {
          "base_uri": "https://localhost:8080/"
        },
        "id": "7bRw_CHxGDIy",
        "outputId": "8e19ede1-9aa8-496c-9b46-0c7983311ec8"
      },
      "source": [
        "from sklearn.model_selection import cross_val_score\n",
        "cv_score=cross_val_score(model2,x,y,cv=5)\n",
        "cv_score"
      ],
      "execution_count": null,
      "outputs": [
        {
          "output_type": "execute_result",
          "data": {
            "text/plain": [
              "array([0.81372549, 0.85148515, 0.89108911, 0.93069307, 0.85148515])"
            ]
          },
          "metadata": {},
          "execution_count": 513
        }
      ]
    },
    {
      "cell_type": "code",
      "metadata": {
        "colab": {
          "base_uri": "https://localhost:8080/"
        },
        "id": "k4EKR8XEGDMH",
        "outputId": "da91dcf8-e703-42f6-817d-1b9380d748fa"
      },
      "source": [
        "cv_score.mean()"
      ],
      "execution_count": null,
      "outputs": [
        {
          "output_type": "execute_result",
          "data": {
            "text/plain": [
              "0.8676955930887207"
            ]
          },
          "metadata": {},
          "execution_count": 514
        }
      ]
    },
    {
      "cell_type": "code",
      "metadata": {
        "colab": {
          "base_uri": "https://localhost:8080/",
          "height": 533
        },
        "id": "rtqQrh7fWxVt",
        "outputId": "8d198a74-02a1-48e0-9c6b-a16311e12a29"
      },
      "source": [
        "y_pred_proba=model2.predict_proba(test_x)\n",
        "from sklearn.metrics import roc_auc_score\n",
        "roc_auc_score(test_y, y_pred_proba, multi_class='ovo', average='weighted')\n",
        "\n",
        "fpr = {}\n",
        "tpr = {}\n",
        "thresh ={}\n",
        "\n",
        "n_class = 5\n",
        "\n",
        "for i in range(n_class):    \n",
        "    fpr[i], tpr[i], thresh[i] = roc_curve(test_y, y_pred_proba[:,i], pos_label=i)\n",
        "    \n",
        "# plotting    \n",
        "plt.plot(fpr[0], tpr[0], linestyle='--',color='black', label='Class 0 vs Rest')\n",
        "plt.plot(fpr[1], tpr[1], linestyle='--',color='green', label='Class 1 vs Rest')\n",
        "plt.plot(fpr[2], tpr[2], linestyle='--',color='olive', label='Class 2 vs Rest')\n",
        "plt.plot(fpr[3], tpr[3], linestyle='--',color='yellow', label='Class 3 vs Rest')\n",
        "plt.plot(fpr[4], tpr[4], linestyle='--',color='purple', label='Class 4 vs Rest')\n",
        "plt.plot([0, 1], [0, 1], color=\"blue\", linestyle=\"--\")\n",
        "plt.title('Multiclass ROC curve')\n",
        "plt.xlabel('False Positive Rate')\n",
        "plt.ylabel('True Positive rate')\n",
        "plt.legend(loc='best')\n",
        "plt.savefig('/content/drive/MyDrive/Colab Notebooks/Thesis /Dataset/Gboost_ROC.png')    "
      ],
      "execution_count": null,
      "outputs": [
        {
          "output_type": "display_data",
          "data": {
            "image/png": "[encoded data removed]",
            "text/plain": [
              "<Figure size 1080x595.44 with 1 Axes>"
            ]
          },
          "metadata": {}
        }
      ]
    },
    {
      "cell_type": "markdown",
      "metadata": {
        "id": "UqXprP5Y3rBd"
      },
      "source": [
        "# **Support Vector Machines**"
      ]
    },
    {
      "cell_type": "code",
      "metadata": {
        "id": "grbRTUeB5sZ8"
      },
      "source": [
        "from sklearn.model_selection import train_test_split\n",
        "train_x, test_x, train_y, test_y =train_test_split(x,y_new,test_size= 0.2,random_state=2)"
      ],
      "execution_count": null,
      "outputs": []
    },
    {
      "cell_type": "code",
      "metadata": {
        "id": "6vYqzUQX3wc-"
      },
      "source": [
        "from sklearn.svm import SVC\n",
        "Sclf =SVC(C=3.0, kernel='linear', degree=2, gamma='scale',max_iter=-1,probability=True)\n",
        "model3=Sclf.fit(train_x,train_y)"
      ],
      "execution_count": null,
      "outputs": []
    },
    {
      "cell_type": "code",
      "metadata": {
        "colab": {
          "base_uri": "https://localhost:8080/"
        },
        "id": "XzBoZ7Yl5y4M",
        "outputId": "58a1e3ad-ce9e-4b73-d473-e2ddc6891c39"
      },
      "source": [
        "model3.score(test_x,test_y)"
      ],
      "execution_count": null,
      "outputs": [
        {
          "output_type": "execute_result",
          "data": {
            "text/plain": [
              "0.6176470588235294"
            ]
          },
          "metadata": {},
          "execution_count": 635
        }
      ]
    },
    {
      "cell_type": "code",
      "metadata": {
        "id": "ge6i42r27sPi"
      },
      "source": [
        "pred_S = Sclf.predict(test_x)"
      ],
      "execution_count": null,
      "outputs": []
    },
    {
      "cell_type": "code",
      "metadata": {
        "colab": {
          "base_uri": "https://localhost:8080/"
        },
        "id": "AoEuvEAY7obm",
        "outputId": "8799068f-5373-426e-a574-f3aaf5d54749"
      },
      "source": [
        "pred_S"
      ],
      "execution_count": null,
      "outputs": [
        {
          "output_type": "execute_result",
          "data": {
            "text/plain": [
              "array([1, 4, 3, 0, 4, 3, 0, 1, 4, 3, 2, 4, 0, 2, 3, 4, 1, 4, 3, 1, 3, 3,\n",
              "       1, 1, 0, 3, 3, 3, 0, 4, 4, 0, 0, 0, 4, 4, 3, 2, 4, 0, 4, 2, 4, 1,\n",
              "       0, 0, 0, 0, 4, 3, 4, 0, 1, 3, 4, 4, 4, 0, 4, 4, 1, 0, 4, 4, 4, 2,\n",
              "       4, 2, 1, 3, 4, 3, 0, 1, 0, 4, 4, 0, 0, 0, 1, 0, 3, 0, 1, 3, 3, 4,\n",
              "       3, 4, 3, 0, 2, 3, 0, 0, 3, 0, 4, 3, 0, 0])"
            ]
          },
          "metadata": {},
          "execution_count": 637
        }
      ]
    },
    {
      "cell_type": "code",
      "metadata": {
        "colab": {
          "base_uri": "https://localhost:8080/"
        },
        "id": "zibdmOqm72KF",
        "outputId": "df7ed095-1d8d-43f8-aa96-6d2eb53077e4"
      },
      "source": [
        "from sklearn.metrics import accuracy_score\n",
        "print(\"Accuracy=\",accuracy_score(test_y,pred_S))"
      ],
      "execution_count": null,
      "outputs": [
        {
          "output_type": "stream",
          "name": "stdout",
          "text": [
            "Accuracy= 0.6176470588235294\n"
          ]
        }
      ]
    },
    {
      "cell_type": "code",
      "metadata": {
        "colab": {
          "base_uri": "https://localhost:8080/",
          "height": 689
        },
        "id": "slwpRrXu8BNX",
        "outputId": "745aed49-0838-46e4-a21f-15040fb90002"
      },
      "source": [
        "import scikitplot as skplt\n",
        "\n",
        "skplt.metrics.plot_confusion_matrix(\n",
        "    test_y, \n",
        "    pred_S,\n",
        "    figsize=(12,12))\n",
        "plt.savefig('/content/drive/MyDrive/Colab Notebooks/Thesis /Dataset/SVM_Confusion.png')    "
      ],
      "execution_count": null,
      "outputs": [
        {
          "output_type": "display_data",
          "data": {
            "image/png": "[encoded data removed]",
            "text/plain": [
              "<Figure size 864x864 with 2 Axes>"
            ]
          },
          "metadata": {}
        }
      ]
    },
    {
      "cell_type": "code",
      "metadata": {
        "colab": {
          "base_uri": "https://localhost:8080/"
        },
        "id": "NH2P8Fzl8GCs",
        "outputId": "70c60c14-ced6-4149-a798-43ca1b6ee9e8"
      },
      "source": [
        "from sklearn.metrics import classification_report\n",
        "print(classification_report(test_y, pred_S))"
      ],
      "execution_count": null,
      "outputs": [
        {
          "output_type": "stream",
          "name": "stdout",
          "text": [
            "              precision    recall  f1-score   support\n",
            "\n",
            "           0       0.52      0.54      0.53        28\n",
            "           1       0.85      0.69      0.76        16\n",
            "           2       0.43      0.27      0.33        11\n",
            "           3       0.48      0.52      0.50        21\n",
            "           4       0.77      0.88      0.82        26\n",
            "\n",
            "    accuracy                           0.62       102\n",
            "   macro avg       0.61      0.58      0.59       102\n",
            "weighted avg       0.61      0.62      0.61       102\n",
            "\n"
          ]
        }
      ]
    },
    {
      "cell_type": "markdown",
      "metadata": {
        "id": "T0PL9LNRM4Uq"
      },
      "source": [
        "k-fold cross validation"
      ]
    },
    {
      "cell_type": "code",
      "metadata": {
        "id": "hqKhfO-RM5CZ"
      },
      "source": [
        "from sklearn.model_selection import cross_val_score"
      ],
      "execution_count": null,
      "outputs": []
    },
    {
      "cell_type": "code",
      "metadata": {
        "id": "W5Y3Fz9-M5ei"
      },
      "source": [
        "cv_score=cross_val_score(model3,x,y,cv=5)"
      ],
      "execution_count": null,
      "outputs": []
    },
    {
      "cell_type": "code",
      "metadata": {
        "colab": {
          "base_uri": "https://localhost:8080/"
        },
        "id": "JZJBBnosM5tx",
        "outputId": "14ccd854-5c99-4b67-d032-c732175646c9"
      },
      "source": [
        "cv_score"
      ],
      "execution_count": null,
      "outputs": [
        {
          "output_type": "execute_result",
          "data": {
            "text/plain": [
              "array([0.62745098, 0.66336634, 0.53465347, 0.58415842, 0.58415842])"
            ]
          },
          "metadata": {},
          "execution_count": 643
        }
      ]
    },
    {
      "cell_type": "code",
      "metadata": {
        "id": "xA4PL4578Hw9",
        "colab": {
          "base_uri": "https://localhost:8080/"
        },
        "outputId": "aca897e3-88ab-4830-f5d7-573120e0510f"
      },
      "source": [
        "cv_score.mean()"
      ],
      "execution_count": null,
      "outputs": [
        {
          "output_type": "execute_result",
          "data": {
            "text/plain": [
              "0.5987575228111047"
            ]
          },
          "metadata": {},
          "execution_count": 644
        }
      ]
    },
    {
      "cell_type": "code",
      "metadata": {
        "colab": {
          "base_uri": "https://localhost:8080/",
          "height": 533
        },
        "id": "Nbdbm7GBXBvI",
        "outputId": "77684ec1-947d-4d15-c532-b42437ded350"
      },
      "source": [
        "y_pred_proba=model3.predict_proba(test_x)\n",
        "from sklearn.metrics import roc_auc_score\n",
        "roc_auc_score(test_y, y_pred_proba, multi_class='ovo', average='weighted')\n",
        "\n",
        "fpr = {}\n",
        "tpr = {}\n",
        "thresh ={}\n",
        "\n",
        "n_class = 5\n",
        "\n",
        "for i in range(n_class):    \n",
        "    fpr[i], tpr[i], thresh[i] = roc_curve(test_y, y_pred_proba[:,i], pos_label=i)\n",
        "    \n",
        "# plotting    \n",
        "plt.plot(fpr[0], tpr[0], linestyle='--',color='black', label='Class 0 vs Rest')\n",
        "plt.plot(fpr[1], tpr[1], linestyle='--',color='green', label='Class 1 vs Rest')\n",
        "plt.plot(fpr[2], tpr[2], linestyle='--',color='olive', label='Class 2 vs Rest')\n",
        "plt.plot(fpr[3], tpr[3], linestyle='--',color='yellow', label='Class 3 vs Rest')\n",
        "plt.plot(fpr[4], tpr[4], linestyle='--',color='purple', label='Class 4 vs Rest')\n",
        "plt.plot([0, 1], [0, 1], color=\"blue\", linestyle=\"--\")\n",
        "plt.title('Multiclass ROC curve')\n",
        "plt.xlabel('False Positive Rate')\n",
        "plt.ylabel('True Positive rate')\n",
        "plt.legend(loc='best')\n",
        "plt.savefig('/content/drive/MyDrive/Colab Notebooks/Thesis /Dataset/SVM_ROC.png')         "
      ],
      "execution_count": null,
      "outputs": [
        {
          "output_type": "display_data",
          "data": {
            "image/png": "[encoded data removed]",
            "text/plain": [
              "<Figure size 1080x595.44 with 1 Axes>"
            ]
          },
          "metadata": {}
        }
      ]
    }
  ]
}